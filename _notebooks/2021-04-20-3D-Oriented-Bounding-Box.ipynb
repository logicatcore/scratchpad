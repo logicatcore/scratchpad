{
 "cells": [
  {
   "cell_type": "markdown",
   "id": "frank-formula",
   "metadata": {},
   "source": [
    "# 3D Oriented bounding boxes made simple\n",
    "> Calculating 3D oriented bounding boxes. Oriented boxes are useful to avoid obstacles and make best utilitsation of the real navigationable space for autonomous vehicles to steer around.\n",
    "\n",
    "- toc: false\n",
    "- branch: master\n",
    "- badges: true\n",
    "- comments: true\n",
    "- categories: [LIDAR, sensor-fusion, jupyter]\n",
    "- image: images/3Dbox/3d_box.png\n",
    "- search_exclude: false"
   ]
  },
  {
   "cell_type": "markdown",
   "id": "acknowledged-evanescence",
   "metadata": {},
   "source": [
    "# Overview\n",
    "\n",
    "In the previous post we looked at the process of generating a 2D bounding box around some data/cluster of points. But while working with LIDARs i.e. point cloud data respectively, we would want the bounding boxes to be in 3-dimensions just like the data.\n",
    "\n",
    "## 2D Oriented bounding boxes recap\n",
    "\n",
    "As a quick recap, the steps involved in generating 2D oriented box is as follows-\n",
    "\n",
    "1. Translate the data to match the means to the origin\n",
    "2. Calculate the Eigen-vectors\n",
    "3. Find the inclination/orientation angle of the principal component i.e. the Eigen-vector with highes Eigen-value\n",
    "4. Use the angle calculated in step 3 to align the data/Eigen-vectors to the cartesian basis vectors\n",
    "5. Calculate the bounding box by determining the max, min values along each dimension\n",
    "6. Undo the rotation and translation to both data and bounding box coordinates\n",
    "\n",
    "## Notes on difference in procedure to 3D oriented bounding boxes\n",
    "\n",
    "Here we notice that Eigen-vectors, translation, and rotation tasks play the main role. Calculating Eigen-vectors and performing translation is a straight forward task in 3D also but rotation is not. As, rotation around orthogonal axis is not commutative i.e. the order in which the layers of a Rubiks cube are rotated matters. That is changing the order in which the layers are rotated will result in a completely different colour patterns on the Rubiks cube. This non-commutative nature of rotations is shown below (feel free to skip to the next section if you are already aware of this)"
   ]
  },
  {
   "cell_type": "markdown",
   "id": "viral-musical",
   "metadata": {},
   "source": [
    "### Handle some imports and set seed for the random generator"
   ]
  },
  {
   "cell_type": "code",
   "execution_count": 28,
   "id": "widespread-germany",
   "metadata": {},
   "outputs": [],
   "source": [
    "%matplotlib widget\n",
    "import matplotlib.pyplot as plt\n",
    "import numpy as np\n",
    "import numpy.linalg as LA\n",
    "from mpl_toolkits.mplot3d import Axes3D"
   ]
  },
  {
   "cell_type": "markdown",
   "id": "clinical-juvenile",
   "metadata": {},
   "source": [
    "### Roll, Pitch, and Yaw matrices\n",
    "\n",
    "Here we define the yaw(rotation about z axis), pitch(rotation about y axis), and roll(rotation about x axis) matrices to see the effects of rotating a vector (2, 0, 0) and prove that rotations are not commutative in nature."
   ]
  },
  {
   "cell_type": "code",
   "execution_count": null,
   "id": "angry-luxury",
   "metadata": {},
   "outputs": [],
   "source": [
    "def yaw(theta):\n",
    "    theta = np.deg2rad(theta)\n",
    "    return np.array([[np.cos(theta), -np.sin(theta), 0],\n",
    "                     [np.sin(theta),  np.cos(theta), 0],\n",
    "                     [            0,              0, 1]])\n",
    "\n",
    "def pitch(theta):\n",
    "    theta = np.deg2rad(theta)\n",
    "    return np.array([[np.cos(theta) , 0, np.sin(theta)],\n",
    "                     [             0, 1,             0],\n",
    "                     [-np.sin(theta), 0, np.cos(theta)]])\n",
    "\n",
    "def roll(theta):\n",
    "    theta = np.deg2rad(theta)\n",
    "    return np.array([[1,              0,             0],\n",
    "                     [0,  np.cos(theta), np.sin(theta)],\n",
    "                     [0, -np.sin(theta), np.cos(theta)]])"
   ]
  },
  {
   "cell_type": "code",
   "execution_count": null,
   "id": "fancy-cuisine",
   "metadata": {},
   "outputs": [],
   "source": [
    "def CreateFigure():\n",
    "    \"\"\"\n",
    "    Helper function to create figures and label axes\n",
    "    \"\"\"\n",
    "    fig = plt.figure()\n",
    "    ax = fig.add_subplot(111, projection='3d')\n",
    "    ax.set_xlabel('x')\n",
    "    ax.set_ylabel('y')\n",
    "    ax.set_zlabel('z')\n",
    "    return ax"
   ]
  },
  {
   "cell_type": "markdown",
   "id": "homeless-cholesterol",
   "metadata": {},
   "source": [
    "### Yaw\n",
    "Rotate vector (2, 0, 0) by 90 degrees anti-clockwise around z axis"
   ]
  },
  {
   "cell_type": "code",
   "execution_count": null,
   "id": "fifty-volume",
   "metadata": {},
   "outputs": [],
   "source": [
    "x = np.matmul(yaw(90), np.array([[2],\n",
    "                                 [0],\n",
    "                                 [0]]))"
   ]
  },
  {
   "cell_type": "code",
   "execution_count": null,
   "id": "secondary-fleet",
   "metadata": {},
   "outputs": [],
   "source": [
    "ax = CreateFigure()\n",
    "\n",
    "ax.plot([0, 2], [0, 0], [0, 0], label=\"before rotation\")\n",
    "ax.plot([0, x[0,0]], [0, x[1,0]], [0, x[2,0]], label=\"after rotation\")\n",
    "ax.plot(2 * np.cos(np.linspace(0, np.pi/2, 50)), 2 * np.sin(np.linspace(0, np.pi/2, 50)), 0, linestyle=\"dashed\", label=\"rotation trail\")\n",
    "ax.legend()"
   ]
  },
  {
   "cell_type": "markdown",
   "id": "nutritional-center",
   "metadata": {},
   "source": [
    "<img src=\"../images/3Dbox/yaw.png\" width=\"500\" height=\"500\" />"
   ]
  },
  {
   "cell_type": "markdown",
   "id": "threaded-dragon",
   "metadata": {},
   "source": [
    "### Roll\n",
    "Rotate vector (2, 0, 0) by 90 degrees anti-clockwise around x axis"
   ]
  },
  {
   "cell_type": "code",
   "execution_count": null,
   "id": "cloudy-assistant",
   "metadata": {},
   "outputs": [],
   "source": [
    "x = np.matmul(roll(90), np.array([[0],\n",
    "                                  [2],\n",
    "                                  [0]]))"
   ]
  },
  {
   "cell_type": "code",
   "execution_count": null,
   "id": "consistent-valley",
   "metadata": {},
   "outputs": [],
   "source": [
    "ax = CreateFigure()\n",
    "\n",
    "ax.plot([0, 0], [0, 2], [0, 0], label=\"before rotation\")\n",
    "ax.plot([0, x[0,0]], [0, x[1,0]], [0, x[2,0]], label=\"after rotation\")\n",
    "ax.plot(np.zeros(50), 2 * np.cos(np.linspace(0, np.pi/2, 50)), -2 * np.sin(np.linspace(0, np.pi/2, 50)), linestyle=\"dashed\", label=\"rotation trail\")\n",
    "ax.legend()"
   ]
  },
  {
   "cell_type": "markdown",
   "id": "devoted-stephen",
   "metadata": {},
   "source": [
    "<img src=\"../images/3Dbox/roll.png\" width=\"500\" height=\"500\" />"
   ]
  },
  {
   "cell_type": "markdown",
   "id": "vertical-study",
   "metadata": {},
   "source": [
    "### Pitch\n",
    "Rotate point (2, 0) by 90 degrees anti-clockwise around y axis"
   ]
  },
  {
   "cell_type": "code",
   "execution_count": null,
   "id": "aging-friendship",
   "metadata": {},
   "outputs": [],
   "source": [
    "x = np.matmul(pitch(90), np.array([[2],\n",
    "                                   [0],\n",
    "                                   [0]]))"
   ]
  },
  {
   "cell_type": "code",
   "execution_count": null,
   "id": "educated-winner",
   "metadata": {},
   "outputs": [],
   "source": [
    "ax = CreateFigure()\n",
    "\n",
    "ax.plot([0, 2], [0, 0], [0, 0], label=\"before rotation\")\n",
    "ax.plot([0, x[0,0]], [0, x[1,0]], [0, x[2,0]], label=\"after rotation\")\n",
    "ax.plot(2 * np.cos(np.linspace(0, np.pi/2, 50)), np.zeros(50), -2 * np.sin(np.linspace(0, np.pi/2, 50)), linestyle=\"dashed\", label=\"rotation trail\")\n",
    "ax.legend()"
   ]
  },
  {
   "cell_type": "markdown",
   "id": "right-memorial",
   "metadata": {},
   "source": [
    "<img src=\"../images/3Dbox/pitch.png\" width=\"500\" height=\"500\" />"
   ]
  },
  {
   "cell_type": "markdown",
   "id": "cutting-swiss",
   "metadata": {},
   "source": [
    "### Roll, Pitch, and Yaw together and the non-commutative nature of rotations visualised"
   ]
  },
  {
   "cell_type": "code",
   "execution_count": null,
   "id": "efficient-congo",
   "metadata": {},
   "outputs": [],
   "source": [
    "basis = np.array([[1,0,0],\n",
    "                  [0,1,0],\n",
    "                  [0,0,1]])\n",
    "x1 = np.matmul(yaw(90) @ pitch(90), np.array([[2], [0], [0]]))\n",
    "x2 = np.matmul(pitch(90) @ yaw(90), np.array([[2], [0], [0]]))"
   ]
  },
  {
   "cell_type": "code",
   "execution_count": null,
   "id": "recent-buffalo",
   "metadata": {},
   "outputs": [],
   "source": [
    "def SetAxisProp(ax):\n",
    "    ax.set_xlabel('x')\n",
    "    ax.set_ylabel('y')\n",
    "    ax.set_zlabel('z')\n",
    "    ax.set_xlim(-2, 2)\n",
    "    ax.set_ylim(-2, 2)\n",
    "    ax.set_zlim(-2, 2)\n",
    "    \n",
    "fig = plt.figure(figsize=(10,6))\n",
    "ax1 = fig.add_subplot(121, projection='3d')\n",
    "SetAxisProp(ax1)\n",
    "ax2 = fig.add_subplot(122, projection='3d')\n",
    "SetAxisProp(ax2)\n",
    "\n",
    "ax1.set_title(\"Yaw x Pitch\")\n",
    "ax1.plot([0, 2], [0, 0], [0, 0], label=\"before rotation\")\n",
    "ax1.plot([0, x1[0,0]], [0, x1[1,0]], [0, x1[2,0]], label=\"after rotation\")\n",
    "ax1.legend()\n",
    "\n",
    "ax2.set_title(\"Pitch x Yaw\")\n",
    "ax2.plot([0, 2], [0, 0], [0, 0], label=\"before rotation\")\n",
    "ax2.plot([0, x2[0,0]], [0, x2[1,0]], [0, x2[2,0]], label=\"after rotation\")\n",
    "ax2.legend()"
   ]
  },
  {
   "cell_type": "markdown",
   "id": "legislative-rubber",
   "metadata": {},
   "source": [
    "<img src=\"../images/3Dbox/yaw_pitch.png\" width=\"1000\" height=\"500\" />"
   ]
  },
  {
   "cell_type": "markdown",
   "id": "surprising-piece",
   "metadata": {},
   "source": [
    "As we can see in the figure above, just changing the order in which yaw and pitch the vector, the resulting vector is completely different!\n",
    "\n",
    "So, in this post the main difference compared to the previous post involving 2D oriented bounding boxes would be concerned with rotation and the way we align the data to the cartesian basis. \n",
    "\n",
    "## A quick overiew of what is to come\n",
    "\n",
    "![](../images/3Dbox/3d_box.png)\n",
    "\n",
    "---\n",
    "## Let us get started with the code and the math to generate a bounding box"
   ]
  },
  {
   "cell_type": "markdown",
   "id": "controlling-daniel",
   "metadata": {},
   "source": [
    "### Generate 3D sample data and visualise it"
   ]
  },
  {
   "cell_type": "code",
   "execution_count": null,
   "id": "boolean-scotland",
   "metadata": {},
   "outputs": [],
   "source": [
    "x = np.linspace(3, 8, 100) + np.random.normal(0, 0.2, 100)\n",
    "y = np.linspace(3, 8, 100) + np.random.normal(0, 0.2, 100)\n",
    "z = np.linspace(1, 3, 100) + np.random.normal(0, 0.2, 100)\n",
    "data = np.vstack([x, y, z])\n",
    "\n",
    "fig = plt.figure()\n",
    "ax = fig.add_subplot(111, projection='3d')\n",
    "ax.scatter(data[0,:], data[1,:], data[2,:], label=\"original data\")\n",
    "ax.set_xlabel('x')\n",
    "ax.set_ylabel('y')\n",
    "ax.set_zlabel('z')\n",
    "ax.legend()"
   ]
  },
  {
   "cell_type": "markdown",
   "id": "danish-billy",
   "metadata": {},
   "source": [
    "<img src=\"../images/3Dbox/original.png\" width=\"500\" height=\"500\" />"
   ]
  },
  {
   "cell_type": "markdown",
   "id": "burning-commonwealth",
   "metadata": {},
   "source": [
    "### Calculate means, covariance matrix, eigen values, and eigen vectors for the rotated data"
   ]
  },
  {
   "cell_type": "code",
   "execution_count": 29,
   "id": "changed-patient",
   "metadata": {},
   "outputs": [
    {
     "data": {
      "text/plain": [
       "(array([4.74618325, 0.0445827 , 0.03395297]),\n",
       " array([[-0.68725458, -0.52695506, -0.4999995 ],\n",
       "        [-0.67558502,  0.71661269,  0.1733526 ],\n",
       "        [-0.26695696, -0.45692954,  0.84849831]]))"
      ]
     },
     "execution_count": 29,
     "metadata": {},
     "output_type": "execute_result"
    }
   ],
   "source": [
    "means = np.mean(data, axis=1)\n",
    "cov = np.cov(data)\n",
    "eval, evec = LA.eig(cov)\n",
    "eval, evec"
   ]
  },
  {
   "cell_type": "markdown",
   "id": "motivated-front",
   "metadata": {},
   "source": [
    "### Check angle between eigen vectors\n",
    "\n",
    "Since the Eigen-vectors returned by LA.eig are pre normalised, we can determine the angle between the eigen vectors using the dot product"
   ]
  },
  {
   "cell_type": "code",
   "execution_count": 30,
   "id": "daily-neighbor",
   "metadata": {},
   "outputs": [
    {
     "data": {
      "text/plain": [
       "89.99999999999997"
      ]
     },
     "execution_count": 30,
     "metadata": {},
     "output_type": "execute_result"
    }
   ],
   "source": [
    "np.rad2deg(np.arccos(np.dot(evec[:,0], evec[:,1])))"
   ]
  },
  {
   "cell_type": "code",
   "execution_count": 31,
   "id": "growing-payday",
   "metadata": {},
   "outputs": [
    {
     "data": {
      "text/plain": [
       "89.99999999999976"
      ]
     },
     "execution_count": 31,
     "metadata": {},
     "output_type": "execute_result"
    }
   ],
   "source": [
    "np.rad2deg(np.arccos(np.dot(evec[:,1], evec[:,2])))"
   ]
  },
  {
   "cell_type": "code",
   "execution_count": 32,
   "id": "driven-cancellation",
   "metadata": {},
   "outputs": [
    {
     "data": {
      "text/plain": [
       "90.0"
      ]
     },
     "execution_count": 32,
     "metadata": {},
     "output_type": "execute_result"
    }
   ],
   "source": [
    "np.rad2deg(np.arccos(np.dot(evec[:,2], evec[:,0])))"
   ]
  },
  {
   "cell_type": "markdown",
   "id": "million-copyright",
   "metadata": {},
   "source": [
    "### Translate the data"
   ]
  },
  {
   "cell_type": "code",
   "execution_count": null,
   "id": "loaded-island",
   "metadata": {},
   "outputs": [],
   "source": [
    "centered_data = data - means[:,np.newaxis]"
   ]
  },
  {
   "cell_type": "code",
   "execution_count": null,
   "id": "caring-fabric",
   "metadata": {},
   "outputs": [],
   "source": [
    "fig = plt.figure()\n",
    "ax = fig.add_subplot(111, projection='3d')\n",
    "ax.scatter(data[0,:], data[1,:], data[2,:], label=\"original data\")\n",
    "ax.scatter(centered_data[0,:], centered_data[1,:], centered_data[2,:], label=\"centered data\")\n",
    "ax.legend()\n",
    "# cartesian basis\n",
    "ax.plot([0, 1],  [0, 0], [0, 0], color='b', linewidth=4)\n",
    "ax.plot([0, 0],  [0, 1], [0, 0], color='b', linewidth=4)\n",
    "ax.plot([0, 0],  [0, 0], [0, 1], color='b', linewidth=4)\n",
    "# eigen basis\n",
    "ax.plot([0, evec[0, 0]],  [0, evec[1, 0]], [0, evec[2, 0]], color='r', linewidth=4)\n",
    "ax.plot([0, evec[0, 1]],  [0, evec[1, 1]], [0, evec[2, 1]], color='g', linewidth=4)\n",
    "ax.plot([0, evec[0, 2]],  [0, evec[1, 2]], [0, evec[2, 2]], color='k', linewidth=4)"
   ]
  },
  {
   "cell_type": "markdown",
   "id": "monetary-livestock",
   "metadata": {},
   "source": [
    "<img src=\"../images/3Dbox/original_centered.png\" width=\"500\" height=\"500\" />"
   ]
  },
  {
   "cell_type": "markdown",
   "id": "ideal-cycling",
   "metadata": {},
   "source": [
    "The axis orthogonal axes in blue are the cartesian basis and the ones in red, green, and black are the orthogonal eigen vector"
   ]
  },
  {
   "cell_type": "markdown",
   "id": "answering-designation",
   "metadata": {},
   "source": [
    "### Simple max and min based bounding box"
   ]
  },
  {
   "cell_type": "code",
   "execution_count": null,
   "id": "dressed-omaha",
   "metadata": {},
   "outputs": [],
   "source": [
    "def draw3DRectangle(ax, x1, y1, z1, x2, y2, z2):\n",
    "    # the Translate the datatwo sets of coordinates form the apposite diagonal points of a cuboid\n",
    "    ax.plot([x1, x2], [y1, y1], [z1, z1], color='b') # | (up)\n",
    "    ax.plot([x2, x2], [y1, y2], [z1, z1], color='b') # -->\n",
    "    ax.plot([x2, x1], [y2, y2], [z1, z1], color='b') # | (down)\n",
    "    ax.plot([x1, x1], [y2, y1], [z1, z1], color='b') # <--\n",
    "\n",
    "    ax.plot([x1, x2], [y1, y1], [z2, z2], color='b') # | (up)\n",
    "    ax.plot([x2, x2], [y1, y2], [z2, z2], color='b') # -->\n",
    "    ax.plot([x2, x1], [y2, y2], [z2, z2], color='b') # | (down)\n",
    "    ax.plot([x1, x1], [y2, y1], [z2, z2], color='b') # <--\n",
    "    \n",
    "    ax.plot([x1, x1], [y1, y1], [z1, z2], color='b') # | (up)\n",
    "    ax.plot([x2, x2], [y2, y2], [z1, z2], color='b') # -->\n",
    "    ax.plot([x1, x1], [y2, y2], [z1, z2], color='b') # | (down)\n",
    "    ax.plot([x2, x2], [y1, y1], [z1, z2], color='b') # <--"
   ]
  },
  {
   "cell_type": "markdown",
   "id": "japanese-maryland",
   "metadata": {},
   "source": [
    "### Compute the minimums and maximums of each dimension and draw the rectangle"
   ]
  },
  {
   "cell_type": "code",
   "execution_count": null,
   "id": "auburn-essay",
   "metadata": {},
   "outputs": [],
   "source": [
    "xmin, xmax, ymin, ymax, zmin, zmax = np.min(centered_data[0, :]), np.max(centered_data[0, :]), np.min(centered_data[1, :]), np.max(centered_data[1, :]), np.min(centered_data[2, :]), np.max(centered_data[2, :])\n",
    "# Code repeat start\n",
    "fig = plt.figure()\n",
    "ax = fig.add_subplot(111, projection='3d')\n",
    "ax.scatter(data[0,:], data[1,:], data[2,:], label=\"original data\")\n",
    "ax.scatter(centered_data[0,:], centered_data[1,:], centered_data[2,:], label=\"centered data\")\n",
    "ax.legend()\n",
    "# cartesian basis\n",
    "ax.plot([0, 1],  [0, 0], [0, 0], color='b', linewidth=4)\n",
    "ax.plot([0, 0],  [0, 1], [0, 0], color='b', linewidth=4)\n",
    "ax.plot([0, 0],  [0, 0], [0, 1], color='b', linewidth=4)\n",
    "# eigen basis\n",
    "ax.plot([0, evec[0, 0]],  [0, evec[1, 0]], [0, evec[2, 0]], color='r', linewidth=4)\n",
    "ax.plot([0, evec[0, 1]],  [0, evec[1, 1]], [0, evec[2, 1]], color='g', linewidth=4)\n",
    "ax.plot([0, evec[0, 2]],  [0, evec[1, 2]], [0, evec[2, 2]], color='k', linewidth=4)\n",
    "# Code repeat end\n",
    "draw3DRectangle(ax, xmin, ymin, zmin, xmax, ymax, zmax)"
   ]
  },
  {
   "attachments": {},
   "cell_type": "markdown",
   "id": "precise-antenna",
   "metadata": {},
   "source": [
    "<img src=\"../images/3Dbox/max_min_box.png\" width=\"500\" height=\"500\" />"
   ]
  },
  {
   "cell_type": "markdown",
   "id": "engaging-script",
   "metadata": {},
   "source": [
    "### Rotation! the crux of the process in generating the oriented bounding box\n",
    "\n",
    "As previously mentioned that the Eigen-vectors are pre normalised and that they are orthogonal to each other when we checked the angles between them, in effect we have in our hands a new set of basis vectors. We can use this basis vector to transform coordinates to and fro defined using any other basis vectors.\n",
    "\n",
    "That is, in our case the Eigen-vectors matrix **evec** can be used to transform coordinates defined in the basis vectors (1,0,0), (0,1,0), (0,0,1). Let us denote the coordinates in the cartesian basis vectors as **C** and the coordinates with Eigen-vectors as basis as **E**. \n",
    "\n",
    "* We can transform coordinated from **C** to **E** by multiplying with the **evec** basis vector matrix\n",
    "* We can transform coordinated from **E** to **C** by multiplying with the **inverse(evec)** basis vector matrix\n",
    "\n",
    "Since the Eigen-vectors are normalised, the **inverse(evec)** == **transpose(evec)** (the code below proves this)"
   ]
  },
  {
   "cell_type": "code",
   "execution_count": 33,
   "id": "silent-storage",
   "metadata": {},
   "outputs": [
    {
     "data": {
      "text/plain": [
       "True"
      ]
     },
     "execution_count": 33,
     "metadata": {},
     "output_type": "execute_result"
    }
   ],
   "source": [
    "np.allclose(LA.inv(evec), evec.T)"
   ]
  },
  {
   "cell_type": "markdown",
   "id": "fitted-vanilla",
   "metadata": {},
   "source": [
    "### Rotate the data i.e. align the eigen vector to the cartesian basis"
   ]
  },
  {
   "cell_type": "code",
   "execution_count": null,
   "id": "brief-authority",
   "metadata": {},
   "outputs": [],
   "source": [
    "aligned_coords = np.matmul(evec.T, centered_data)"
   ]
  },
  {
   "cell_type": "code",
   "execution_count": null,
   "id": "level-height",
   "metadata": {},
   "outputs": [],
   "source": [
    "fig = plt.figure()\n",
    "ax = fig.add_subplot(111, projection='3d')\n",
    "ax.scatter(aligned_coords[0,:], aligned_coords[1,:], aligned_coords[2,:], color='g', label=\"rotated/aligned data\")\n",
    "ax.scatter(centered_data[0,:], centered_data[1,:], centered_data[2,:], color='orange', label=\"centered data\")\n",
    "ax.legend()\n",
    "ax.set_xlabel('x')\n",
    "ax.set_ylabel('y')\n",
    "ax.set_zlabel('z')"
   ]
  },
  {
   "cell_type": "markdown",
   "id": "spread-burlington",
   "metadata": {},
   "source": [
    "<img src=\"../images/3Dbox/aligned_data.png\" width=\"500\" height=\"500\" />"
   ]
  },
  {
   "cell_type": "markdown",
   "id": "waiting-tuning",
   "metadata": {},
   "source": [
    "### Compute the minimums and maximums of each dimension and draw the rectangle"
   ]
  },
  {
   "cell_type": "code",
   "execution_count": null,
   "id": "radical-february",
   "metadata": {},
   "outputs": [],
   "source": [
    "xmin, xmax, ymin, ymax, zmin, zmax = np.min(aligned_coords[0, :]), np.max(aligned_coords[0, :]), np.min(aligned_coords[1, :]), np.max(aligned_coords[1, :]), np.min(aligned_coords[2, :]), np.max(aligned_coords[2, :])\n",
    "\n",
    "fig = plt.figure()\n",
    "ax = fig.add_subplot(111, projection='3d')\n",
    "ax.scatter(aligned_coords[0,:], aligned_coords[1,:], aligned_coords[2,:], color='g', label=\"rotated/aligned data\")\n",
    "ax.scatter(centered_data[0,:], centered_data[1,:], centered_data[2,:], color='tab:orange', label=\"centered data\")\n",
    "ax.legend()\n",
    "ax.set_xlabel('x')\n",
    "ax.set_ylabel('y')\n",
    "ax.set_zlabel('z')\n",
    "# cartesian basis\n",
    "ax.plot([0, 1],  [0, 0], [0, 0], color='b', linewidth=4)\n",
    "ax.plot([0, 0],  [0, 1], [0, 0], color='b', linewidth=4)\n",
    "ax.plot([0, 0],  [0, 0], [0, 1], color='b', linewidth=4)\n",
    "# eigen basis\n",
    "ax.plot([0, evec[0, 0]],  [0, evec[1, 0]], [0, evec[2, 0]], color='r', linewidth=4)\n",
    "ax.plot([0, evec[0, 1]],  [0, evec[1, 1]], [0, evec[2, 1]], color='g', linewidth=4)\n",
    "ax.plot([0, evec[0, 2]],  [0, evec[1, 2]], [0, evec[2, 2]], color='k', linewidth=4)\n",
    "\n",
    "draw3DRectangle(ax, xmin, ymin, zmin, xmax, ymax, zmax)"
   ]
  },
  {
   "cell_type": "markdown",
   "id": "threatened-allowance",
   "metadata": {},
   "source": [
    "<img src=\"../images/3Dbox/aligned_box.png\" width=\"500\" height=\"500\" />"
   ]
  },
  {
   "cell_type": "markdown",
   "id": "married-hunter",
   "metadata": {},
   "source": [
    "### Undo rotation and translatation to the data and bounding box coordinates "
   ]
  },
  {
   "cell_type": "code",
   "execution_count": null,
   "id": "favorite-refund",
   "metadata": {},
   "outputs": [],
   "source": [
    "rectCoords = lambda x1, y1, z1, x2, y2, z2: np.array([[x1, x1, x2, x2, x1, x1, x2, x2],\n",
    "                                                      [y1, y2, y2, y1, y1, y2, y2, y1],\n",
    "                                                      [z1, z1, z1, z1, z2, z2, z2, z2]])\n",
    "\n",
    "realigned_coords = np.matmul(evec, aligned_coords)\n",
    "realigned_coords += means[:, np.newaxis]\n",
    "\n",
    "rrc = np.matmul(evec, rectCoords(xmin, ymin, zmin, xmax, ymax, zmax))\n",
    "# rrc = rotated rectangle coordinates"
   ]
  },
  {
   "cell_type": "markdown",
   "id": "introductory-startup",
   "metadata": {},
   "source": [
    "### Translate the coordinates of the bounding box "
   ]
  },
  {
   "cell_type": "code",
   "execution_count": null,
   "id": "psychological-curtis",
   "metadata": {},
   "outputs": [],
   "source": [
    "rrc += means[:, np.newaxis] "
   ]
  },
  {
   "cell_type": "markdown",
   "id": "welcome-charleston",
   "metadata": {},
   "source": [
    "### Plot the data and the bounding box"
   ]
  },
  {
   "cell_type": "code",
   "execution_count": null,
   "id": "major-rachel",
   "metadata": {},
   "outputs": [],
   "source": [
    "fig = plt.figure()\n",
    "ax = fig.add_subplot(111, projection='3d')\n",
    "ax.scatter(realigned_coords[0,:], realigned_coords[1,:], realigned_coords[2,:], label=\"rotation and translation undone\")\n",
    "ax.legend()\n",
    "\n",
    "# z1 plane boundary\n",
    "ax.plot(rrc[0, 0:2], rrc[1, 0:2], rrc[2, 0:2], color='b')\n",
    "ax.plot(rrc[0, 1:3], rrc[1, 1:3], rrc[2, 1:3], color='b')\n",
    "ax.plot(rrc[0, 2:4], rrc[1, 2:4], rrc[2, 2:4], color='b')\n",
    "ax.plot(rrc[0, [3,0]], rrc[1, [3,0]], rrc[2, [3,0]], color='b')\n",
    "\n",
    "# z2 plane boundary\n",
    "ax.plot(rrc[0, 4:6], rrc[1, 4:6], rrc[2, 4:6], color='b')\n",
    "ax.plot(rrc[0, 5:7], rrc[1, 5:7], rrc[2, 5:7], color='b')\n",
    "ax.plot(rrc[0, 6:], rrc[1, 6:], rrc[2, 6:], color='b')\n",
    "ax.plot(rrc[0, [7, 4]], rrc[1, [7, 4]], rrc[2, [7, 4]], color='b')\n",
    "\n",
    "# z1 and z2 connecting boundaries\n",
    "ax.plot(rrc[0, [0, 4]], rrc[1, [0, 4]], rrc[2, [0, 4]], color='b')\n",
    "ax.plot(rrc[0, [1, 5]], rrc[1, [1, 5]], rrc[2, [1, 5]], color='b')\n",
    "ax.plot(rrc[0, [2, 6]], rrc[1, [2, 6]], rrc[2, [2, 6]], color='b')\n",
    "ax.plot(rrc[0, [3, 7]], rrc[1, [3, 7]], rrc[2, [3, 7]], color='b')"
   ]
  },
  {
   "cell_type": "markdown",
   "id": "correct-tunisia",
   "metadata": {},
   "source": [
    "<img src=\"../images/3Dbox/oriented_box.png\" width=\"500\" height=\"500\" />"
   ]
  },
  {
   "cell_type": "markdown",
   "id": "angry-embassy",
   "metadata": {},
   "source": [
    "## Conclusion\n",
    "\n",
    "Using the Eigen-vectors we were able to generate a bounding box for the data we have at hand while carrying out translation, rotatation, and the conjugate operations."
   ]
  }
 ],
 "metadata": {
  "kernelspec": {
   "display_name": "Python 3",
   "language": "python",
   "name": "python3"
  },
  "language_info": {
   "codemirror_mode": {
    "name": "ipython",
    "version": 3
   },
   "file_extension": ".py",
   "mimetype": "text/x-python",
   "name": "python",
   "nbconvert_exporter": "python",
   "pygments_lexer": "ipython3",
   "version": "3.8.5"
  }
 },
 "nbformat": 4,
 "nbformat_minor": 5
}
