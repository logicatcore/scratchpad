{
 "cells": [
  {
   "cell_type": "markdown",
   "id": "instant-norway",
   "metadata": {},
   "source": [
    "# git, a learn by doing attempt\n",
    "> Some things in life are best learnt by practise and git happens to be one such thing. With the current day internet and the plethora of resources available learning has never been more easy. This article introduces you how to learn while having fun.\n",
    "\n",
    "- toc: false\n",
    "- branch: master\n",
    "- badges: true\n",
    "- comments: true\n",
    "- categories: [git]\n",
    "- image: images/git_exercises/git.png\n",
    "- search_exclude: false"
   ]
  },
  {
   "cell_type": "markdown",
   "id": "standard-signature",
   "metadata": {},
   "source": [
    "# What is this article about?\n",
    "\n",
    "This article is my attempt at solving the 23 exercises from https://gitexercises.fracz.com/. While some of the solutions do match exactly with the solutions shown after one successfully solves the exercises, the following collection of solutions are bit detailed in their descriptions along with some links pointing to resources which I found to be helpful in learning and solving the exercises.\n",
    "\n",
    "Exercise 23 is the most interesting one and is also one of the solution I have spent some time working with **gitpython** module in developing an alternate method to find **bug**, in contrast to the **git bisect** solution presented on the main website."
   ]
  },
  {
   "cell_type": "markdown",
   "id": "hairy-energy",
   "metadata": {},
   "source": [
    "# Solutions"
   ]
  },
  {
   "cell_type": "markdown",
   "id": "greatest-middle",
   "metadata": {},
   "source": [
    "## Exercise 1: master\n",
    "```shell\n",
    "$> git start\n",
    "$> git verify\n",
    "```"
   ]
  },
  {
   "cell_type": "markdown",
   "id": "consistent-commitment",
   "metadata": {},
   "source": [
    "## Exercise 2: commit-one-file \n",
    "```shell\n",
    "$> git add A.txt\n",
    "# or \n",
    "$> git add B.txt\n",
    "$> git commit -m \"add one file\"\n",
    "$> git verify \n",
    "```"
   ]
  },
  {
   "cell_type": "markdown",
   "id": "crazy-phase",
   "metadata": {},
   "source": [
    "## Exercise 3: commit-one-file-staged\n",
    "```shell\n",
    "$> git reset HEAD A.txt\n",
    "# or\n",
    "$> git reset HEAD B.txt\n",
    "$> git commit -m \"destage one file\"\n",
    "$> git verify\n",
    "```"
   ]
  },
  {
   "cell_type": "markdown",
   "id": "charitable-doctrine",
   "metadata": {},
   "source": [
    "## Exercise 4: ignore-them\n",
    "```shell\n",
    "$> nano .gitignore\n",
    "```\n",
    "```text\n",
    "*.exe\n",
    "*.o\n",
    "*.jar\n",
    "libraries/\n",
    "```\n",
    "```shell\n",
    "$> git add .\n",
    "$> git commit -m \"commit useful files\"\n",
    "$> git verify\n",
    "```"
   ]
  },
  {
   "cell_type": "markdown",
   "id": "indian-static",
   "metadata": {},
   "source": [
    "## Exercise 5: chase-branch\n",
    "```shell\n",
    "$> git checkout chase-branch\n",
    "$> git merge escaped\n",
    "$> git verify\n",
    "```"
   ]
  },
  {
   "cell_type": "markdown",
   "id": "sensitive-interim",
   "metadata": {},
   "source": [
    "## Exercise 6: merge-conflict\n",
    "```shell\n",
    "$> git checkout merge-conflict\n",
    "$> git merge another-piece-of-work\n",
    "$> nano equation.txt\n",
    "```\n",
    "```text\n",
    "2 + 3 = 5\n",
    "```\n",
    "```shell\n",
    "$> git add equation.txt\n",
    "$> git commit -m \"merge and resolve\"\n",
    "$> git verify\n",
    "```"
   ]
  },
  {
   "cell_type": "markdown",
   "id": "alone-defeat",
   "metadata": {},
   "source": [
    "## Exercise 7: save-your-work\n",
    "To learn about stashing and cleaning https://git-scm.com/book/en/v2/Git-Tools-Stashing-and-Cleaning\n",
    "```shell\n",
    "$> git stash\n",
    "# or\n",
    "$> git stash push\n",
    "$> nano bug.txt # in the text editor delete the bud line\n",
    "$> git commit -am \"remove bug\"\n",
    "$> git stash apply\n",
    "# or\n",
    "$> git stash apply stash@{0}\n",
    "$> nano bug.txt # in the text editor add the line \"Finally, finished it!\" to the end\n",
    "$> git commit -am \"finish\"\n",
    "$> git verify\n",
    "```"
   ]
  },
  {
   "cell_type": "markdown",
   "id": "administrative-student",
   "metadata": {},
   "source": [
    "## Exercise 8: change-branch-history\n",
    "To learn about git rebase https://git-scm.com/docs/git-rebase\n",
    "```shell\n",
    "$> git checkout change-branch-history\n",
    "$> git rebase hot-bugfix\n",
    "$> git verify\n",
    "```"
   ]
  },
  {
   "cell_type": "markdown",
   "id": "typical-utility",
   "metadata": {},
   "source": [
    "## Exercise 9: remove-ignored\n",
    "Solution and explanation https://stackoverflow.com/questions/1274057/how-to-make-git-forget-about-a-file-that-was-tracked-but-is-now-in-gitignore\n",
    "```shell\n",
    "$> git rm --cached ignored.txt\n",
    "$> git commit -am \"untrack ignored.txt\"\n",
    "$> git verify\n",
    "```"
   ]
  },
  {
   "cell_type": "markdown",
   "id": "cellular-french",
   "metadata": {},
   "source": [
    "## Exercise 10: case-sensitive-filename\n",
    "```shell\n",
    "$> git reset HEAD^\n",
    "$> mv File.txt file.txt\n",
    "$> git add file.txt\n",
    "$> git commit -m \"lowercase filename\"\n",
    "$> git verify\n",
    "```"
   ]
  },
  {
   "cell_type": "markdown",
   "id": "hungarian-policy",
   "metadata": {},
   "source": [
    "## Exercise 11: fix-typo\n",
    "Note: **--amend** replaces the  tip of the current branch by creating a new commit.\n",
    "```shell\n",
    "# fix typo in the file\n",
    "$> git commit -a --amend\n",
    "# fix the typo in commit message\n",
    "$> git verify\n",
    "```"
   ]
  },
  {
   "cell_type": "markdown",
   "id": "essential-render",
   "metadata": {},
   "source": [
    "## Exercise 12: forge-date (most useless exercise, but shows that git is not a monolith)\n",
    "```shell\n",
    "$> git commit --amend --no-edit --date=\"1987-08-03\"\n",
    "```"
   ]
  },
  {
   "cell_type": "markdown",
   "id": "piano-contact",
   "metadata": {},
   "source": [
    "## Exercise 13: fix-old-typo\n",
    "```shell\n",
    "$> git rebase -i HEAD^^\n",
    "# change \"pick\" to \"edit\" where the typo is in the commit message\n",
    "# fix the typo in the file\n",
    "$> git add file.txt\n",
    "$> git rebase --continue\n",
    "# fix the rebase conflict\n",
    "$> git add file.txt\n",
    "$> git reabse --continue\n",
    "$> git verify\n",
    "```"
   ]
  },
  {
   "cell_type": "markdown",
   "id": "cross-connecticut",
   "metadata": {},
   "source": [
    "## Exercise 14: commit-lost\n",
    "```shell\n",
    "$> git reflog\n",
    "$> git reset --hard HEAD@{1}\n",
    "$> git verify\n",
    "```"
   ]
  },
  {
   "cell_type": "markdown",
   "id": "skilled-bachelor",
   "metadata": {},
   "source": [
    "## Exercise 15: split-commit\n",
    "```shell\n",
    "$> git reset HEAD^\n",
    "$> git add first.txt\n",
    "$> git commit -m \"First.txt\"\n",
    "$> git add second.txt\n",
    "$> git commit -m \"Second.txt\"\n",
    "$> git verify\n",
    "```"
   ]
  },
  {
   "cell_type": "markdown",
   "id": "specific-deficit",
   "metadata": {},
   "source": [
    "## Exercise 16: too-many-commits\n",
    "```shell\n",
    "$> git rebase -i HEAD~4\n",
    "# replace \"pick\" with \"squash\" for the commit with the message \"Crap, I have forgotten to add this line.\" \n",
    "# leave a commit message same as the one with which the marked commit is getting squashed with i.e.,\n",
    "# \"Add file.txt\"\n",
    "$> git verify\n",
    "```"
   ]
  },
  {
   "cell_type": "markdown",
   "id": "numeric-wrapping",
   "metadata": {},
   "source": [
    "## Exercise 17: executable\n",
    "Under the hood details https://stackoverflow.com/questions/40978921/how-to-add-chmod-permissions-to-file-in-git\n",
    "```shell\n",
    "$> git update-index --chmod=+x script.sh\n",
    "$> git commit -m \"make executable\"\n",
    "$> git verify\n",
    "```"
   ]
  },
  {
   "cell_type": "markdown",
   "id": "sunset-kitchen",
   "metadata": {},
   "source": [
    "## Exercise 18: commit-parts\n",
    "```shell\n",
    "$> git add --patch file.txt\n",
    "# split the hunks with 's'\n",
    "# Stage this hunk [y,n,q,a,d,/,j,J,g,s,e,?]?\n",
    "# \n",
    "# Here is a description of each option:\n",
    "# \n",
    "#     y stage this hunk for the next commit\n",
    "#     n do not stage this hunk for the next commit\n",
    "#     q quit; do not stage this hunk or any of the remaining hunks\n",
    "#     a stage this hunk and all later hunks in the file\n",
    "#     d do not stage this hunk or any of the later hunks in the file\n",
    "#     g select a hunk to go to\n",
    "#     / search for a hunk matching the given regex\n",
    "#     j leave this hunk undecided, see next undecided hunk\n",
    "#     J leave this hunk undecided, see next hunk\n",
    "#     k leave this hunk undecided, see previous undecided hunk\n",
    "#     K leave this hunk undecided, see previous hunk\n",
    "#     s split the current hunk into smaller hunks\n",
    "#     e manually edit the current hunk\n",
    "#     ? print hunk help\n",
    "\n",
    "# select each hunk with 'y' or 'n'\n",
    "$> git commit -m \"task 1 related\"\n",
    "$> git commit -am \"rest of the content\"\n",
    "$> git verify\n",
    "```"
   ]
  },
  {
   "cell_type": "markdown",
   "id": "optimum-general",
   "metadata": {},
   "source": [
    "## Exercise 19: pick-your-features\n",
    "```shell\n",
    "# get an idea of the logs currently and know the SHA-1's needed\n",
    "$> git log --oneline --decorate --graph --all -8\n",
    "$> git checkout pick-your-features\n",
    "\n",
    "$> git cherry-pick feature-a \n",
    "# or\n",
    "$> git cherry pick SHA-1 of feature-a commit\n",
    "\n",
    "$> git cherry-pick feature-b \n",
    "# or\n",
    "$> git cherry pick SHA-1 of feature-b commit\n",
    "\n",
    "$> git merge --squash feature-c\n",
    "# resolve conflict\n",
    "$> git commit -am \"Complete Feature C\"\n",
    "$> git verify\n",
    "```"
   ]
  },
  {
   "cell_type": "markdown",
   "id": "elegant-syria",
   "metadata": {},
   "source": [
    "## Exercise 20: reabse-complex\n",
    "Explanation from git-book https://git-scm.com/book/en/v2/Git-Branching-Rebasing\n",
    "```shell\n",
    "$> git rebase --onto your-master issue-555 rebase-complex \n",
    "# This basically says, “Take the rebase-complex branch, figure out the patches since it diverged from the issue-555 branch, \n",
    "# and replay these patches in the rebase-complex branch as if it was based directly off the your-master branch instead.” \n",
    "$> git verify\n",
    "```"
   ]
  },
  {
   "cell_type": "markdown",
   "id": "weekly-narrow",
   "metadata": {},
   "source": [
    "## Exercise 21: invalid-order\n",
    "```shell\n",
    "$> git rebase -i HEAD~4\n",
    "# reorder the commit messages as needed\n",
    "$> git verify\n",
    "```"
   ]
  },
  {
   "cell_type": "markdown",
   "id": "eleven-lease",
   "metadata": {},
   "source": [
    "## Exercise 22: find-swearwords\n",
    "```shell\n",
    "$> git log -S shit\n",
    "# make a note of the commits where a word \"shit\" was introduced\n",
    "$> git rebase -i HEAD~105\n",
    "# replace 'pick' with 'edit' for those commits\n",
    "\n",
    "# check which files were modified\n",
    "$> git log -p -1\n",
    "# replace 'shit' with 'flower' in list.txt\n",
    "$> git add list.txt\n",
    "$> git commit --amend\n",
    "$> git rebase --continue\n",
    "\n",
    "# check which files were modified\n",
    "$> git log -p -1\n",
    "# replace 'shit' with 'flower' in words.txt\n",
    "$> git add words.txt\n",
    "$> git commit --amend\n",
    "$> git rebase --continue\n",
    "\n",
    "# check which files were modified\n",
    "$> git log -p -1\n",
    "# replace 'shit' with 'flower' in words.txt\n",
    "$> git add words.txt\n",
    "$> git commit --amend\n",
    "$> git rebase --continue\n",
    "\n",
    "$> git verify\n",
    "```"
   ]
  },
  {
   "cell_type": "markdown",
   "id": "macro-criterion",
   "metadata": {},
   "source": [
    "## Exercise 23: find-bug\n",
    "1. First method using *git bisect*\n",
    "```shell\n",
    "$> git checkout find-bug\n",
    "$> git bisect start\n",
    "$> git bisect bad\n",
    "$> git bisect good 1.0\n",
    "# the grep documentation for -v flag doesn't make sense with what the author fracz mentioned and also\n",
    "# I couldn't see the binary output of '1' or '0' as given in the hints\n",
    "$> git bisect run sh -c \"openssl enc -base64 -A -d < home-screen-text.txt | grep -v jackass\"\n",
    "$> git push origin 4d2725ac4c874dbb207770001def27aed48e9ddb:find-bug\n",
    "```\n",
    "2. Second method using **gitpython**\n",
    "\n",
    "    a. Brute-force method iterate through the commits one-by-one from oldest to the newest and break when the word 'jackass' got introduced\n",
    "\n",
    "```python\n",
    "#!/usr/bin/env python\n",
    "# -*- coding:utf-8 -*-\n",
    "\n",
    "from git import Repo\n",
    "import base64\n",
    "\n",
    "# create a repo object to query\n",
    "repo = Repo(\"./exercises/\")\n",
    "# switch to the required branch\n",
    "repo.git.checkout('find-bug')\n",
    "# get all commits between HEAD and tag 1.0\n",
    "commits = repo.iter_commits('HEAD...1.0')\n",
    "\n",
    "for x in reversed(list(commits)):\n",
    "    # move the head to the commit 'x'\n",
    "    repo.head.set_reference(x)\n",
    "    # get a tree object and query the blog based on the file name and read the content from it's data stream\n",
    "    read_this = repo.tree(x)['home-screen-text.txt'].data_stream.read()\n",
    "    \n",
    "    # reader = repo.config_reader()\n",
    "    # read_this = open('./exercises/home-screen-text.txt')\n",
    "    \n",
    "    # decode the base64 bytes\n",
    "    content = base64.b64decode(read_this).decode('ascii')\n",
    "    # check if 'jackass' is present in the file, if yes, print the SHA-1 and exit\n",
    "    if 'jackass' in content:\n",
    "        print(\"The commit where the bug 'jackass' was introduced is:\", x.hexsha)\t\n",
    "        break\n",
    "```"
   ]
  },
  {
   "cell_type": "markdown",
   "id": "usual-habitat",
   "metadata": {},
   "source": [
    "    b. Binary search method (newest first), very similar to what the *git bisect* command does\n",
    "```python\n",
    "#!/usr/bin/env python\n",
    "# -*- coding:utf-8 -*-\n",
    "\n",
    "from git import Repo\n",
    "import base64\n",
    "\n",
    "# create a repo object to query\n",
    "repo = Repo(\"./exercises/\")\n",
    "# switch to the required branch\n",
    "repo.git.checkout('find-bug')\n",
    "# get all commits between HEAD and tag 1.0\n",
    "commits = repo.iter_commits('HEAD...1.0')\n",
    "\n",
    "commits = list(commits)\n",
    "search_length = len(commits)\n",
    "idx = search_length//2\n",
    "last_idx = 0\n",
    "found_at = None\n",
    "\n",
    "for i in range(0, round(math.log2(search_length))):\n",
    "    repo.head.set_reference(commits[idx])\n",
    "    read_this = repo.tree(commits[idx])['home-screen-text.txt'].data_stream.read()\n",
    "    content = base64.b64decode(read_this).decode('ascii')\n",
    "    \n",
    "    if 'jackass' in content:\n",
    "        found_at = idx\n",
    "        print(commits[idx].hexsha)\n",
    "        if i == 0:\n",
    "            update = (search_length - idx)//2\n",
    "        else:\n",
    "            update = (last_idx - idx)//2\n",
    "        last_idx = idx\n",
    "        idx += abs(update)\n",
    "    else:\n",
    "        update = (idx - last_idx)//2 \n",
    "        last_idx = idx\n",
    "        idx -= abs(update) \n",
    "\n",
    "print(\"The commit where the bug 'jackass' was introduced is:\", commits[found_at].hexsha)\n",
    "```"
   ]
  }
 ],
 "metadata": {
  "kernelspec": {
   "display_name": "Python 3",
   "language": "python",
   "name": "python3"
  },
  "language_info": {
   "codemirror_mode": {
    "name": "ipython",
    "version": 3
   },
   "file_extension": ".py",
   "mimetype": "text/x-python",
   "name": "python",
   "nbconvert_exporter": "python",
   "pygments_lexer": "ipython3",
   "version": "3.8.5"
  }
 },
 "nbformat": 4,
 "nbformat_minor": 5
}
