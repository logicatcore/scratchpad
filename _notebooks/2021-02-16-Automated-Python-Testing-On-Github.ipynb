{
 "cells": [
  {
   "cell_type": "markdown",
   "metadata": {},
   "source": [
    "# Automated python testing on Github\n",
    "> Setup your own CI(continuous integration) workflow on Github\n",
    "\n",
    "- toc: false\n",
    "- branch: master\n",
    "- badges: true\n",
    "- comments: true\n",
    "- categories: [python, testing, continuous-integration]\n",
    "- image: images/CI/continuous-integration-2.png\n",
    "- search_exclude: false"
   ]
  },
  {
   "cell_type": "markdown",
   "metadata": {},
   "source": [
    "To beging with, let us go through some basic definition of what Continuous Integration is and what we want to achieve with the tools that are available. \n",
    "\n",
    "# What is CI(continuous integration)?\n",
    "\n",
    "While there are plenty of excellent resources online to read about whta CI is and what are its advantages. Continuous Integration (CI) in its simplest interpretation is a development practice where developers integrate their work (code) into a shared repository frequently, preferably several times a day. With each integration being verified by an automated build and tests. \n",
    "\n",
    "One of the key benefits of integrating regularly is that errors can be easily detected and located. CI has become a best practice for software development and is guided by a set of key principles. Among them are revision control, build automation and automated testing.\n",
    "\n",
    "“Continuous Integration doesn’t get rid of bugs, but it does make them dramatically easier to find and remove.” -Martin Fowler, Chief Scientist, ThoughtWorks\n",
    "\n",
    "# Sounds good, how to proceed next?\n",
    "\n",
    "Well, their are multiple solutions/ways in which one can setup CI. Perhaps you have heard of [jenkins](https://www.jenkins.io/), which \"is a free and open source automation server that helps automate the parts of software development related to building, testing, and deploying, facilitating continuous integration and continuous delivery\". \n",
    "\n",
    "But, [Github](https://www.github.com/) also offers the necessary tools required to achieve what *jenkins* perhaps (not from experience) makes it easy since it has been specifically developed for automation. Github enables setting up workflows which can in turn be used create custom continuous integration (CI) and continuous deployment (CD) workflows directly in one's GitHub repository with GitHub Actions.\n",
    "\n",
    "In this post we will be mainly looking at how to make use of Github actions to setup a Continuous integrations workflow where tests are performed upon each pull request and the test statistics are displayed right at the pull request which would help both the integrator and the code contributor to identify and rectify errors easily before the work can be merged into the main or development branch.\n",
    "\n",
    "# Python testing framework\n",
    "\n",
    "[Pytest](https://docs.pytest.org/en/stable/) is a python testing framework that we will be using. The pytest framework makes it easy to write small tests, yet scales to support complex functional testing for applications and libraries.\n",
    "\n",
    "An example of simple test:"
   ]
  },
  {
   "cell_type": "code",
   "execution_count": null,
   "metadata": {},
   "outputs": [],
   "source": [
    "# content of test_sample.py\n",
    "def inc(x):\n",
    "    return x + 1\n",
    "\n",
    "\n",
    "def test_answer():\n",
    "    assert inc(3) == 5"
   ]
  },
  {
   "cell_type": "markdown",
   "metadata": {},
   "source": [
    "Pytest has neat feature using which all files of the form test_\\*.py or \\*_test.py in the current directory and its subdirectories can be run automatically. The results of the test can then be summarised into an *xml* file which can be read by an automated process to further generate easily interpretable graphs/graphics."
   ]
  },
  {
   "cell_type": "markdown",
   "metadata": {},
   "source": [
    "# Generating graphs/graphics\n",
    "\n",
    "In the previous section we got to know about the testing framework which can run the tests on demand and also summarises the results into an *xml* which can be used by automated processes to generate easily interpretable graphs/graphics.\n",
    "\n",
    "For this purpose we will make use of an [Github-action](https://github.com/EnricoMi/publish-unit-test-result-action) made by Enrico Minack which analyses Unit Test result files(*xml*) and publishes the results on GitHub. It supports the JUnit XML file format. Here is an example of a comment posted on the pull request of the commit that triggers the workflow, if one exists. In presence of failures or errors, the comment links to the respective check page with failure details:\n",
    "\n",
    "![Image](../images/CI/actions-bot.png)"
   ]
  },
  {
   "cell_type": "markdown",
   "metadata": {},
   "source": [
    "# Setting up Github action for Python testing\n",
    "\n",
    "If the reader is not familar with what Github actions are, I highly recommend spending some time to read through the following introduction [website](https://docs.github.com/en/actions/learn-github-actions/introduction-to-github-actions) which explains introduces Github actions clearly and concisely. \n",
    "\n",
    "By default the github actions are meant to be stored inside a *.github/workflows* folder as *yml* files. This is where we will be creating a file named *python-testing.yml* and define all the relevant details regarding the automated workflow that we want to set up. \n",
    "\n",
    "```yml\n",
    "# This is a basic workflow to help you get started with Actions\n",
    "\n",
    "name: Binary-Tree-Python-Testing\n",
    "\n",
    "# Controls when the action will run. \n",
    "on:\n",
    "  # Triggers the workflow on pull request events but only for the devel branch\n",
    "  pull_request:\n",
    "    branches: [ devel ]\n",
    "\n",
    "  # Allows you to run this workflow manually from the Actions tab\n",
    "  workflow_dispatch:\n",
    "\n",
    "# A workflow run is made up of one or more jobs that can run sequentially or in parallel\n",
    "jobs:\n",
    "  # This workflow contains a single job called \"test\"\n",
    "  test:\n",
    "    # The type of runner that the job will run on\n",
    "    runs-on: ubuntu-latest\n",
    "\n",
    "    # Steps represent a sequence of tasks that will be executed as part of the job\n",
    "    steps:\n",
    "      # Checks-out your repository under $GITHUB_WORKSPACE, so your job can access it\n",
    "      - uses: actions/checkout@v2\n",
    "      # Pick the python version with which you want the tests to be carried out. 'x' allows github to pick the lastest stable version available\n",
    "      - name: Set up Python\n",
    "        uses: actions/setup-python@v2\n",
    "        with:\n",
    "          python-version: '3.8.x'\n",
    "      # Install pytest and pytest-cov (code coverage) in the virtual runner to run the tests. pytest also summarises the test results in an xml file which will be used by the action in the next step to generate some graphics and post as comment at the commit/pull request that triggers the automated tesing workflow\n",
    "      - name: Test with pytest\n",
    "        run: |\n",
    "          pip install pytest\n",
    "          pip install pytest-cov\n",
    "          pytest --doctest-modules --junitxml=junit/test-results.xml --cov=com --cov-report=xml --cov-report=html\n",
    "      # Publish the results of testing as a graphical summary in the conversation of the pull request that triggered the action (from the previous section)\n",
    "      - name: Publish Unit Test Results\n",
    "        uses: EnricoMi/publish-unit-test-result-action@v1\n",
    "        if: always()\n",
    "        with:\n",
    "          files: junit/test-results.xml\n",
    "          GITHUB_TOKEN: ${{ secrets.GITHUB_TOKEN }}\n",
    "```"
   ]
  },
  {
   "attachments": {},
   "cell_type": "markdown",
   "metadata": {},
   "source": [
    "# Automated testing in action!!\n",
    "\n",
    "Now that we have everything set up, we can see the automated testing workflow in action. Since the workflow has been configured to run upon a pull request being made to the **devel** (development) branch, any pull request that is made to the devel branch triggers the workflow and the results of the testing will be posted.\n",
    "\n",
    "Since I had started to work on creating a library of binary-tree data structure and the relevant algorithms, I have this workflow setup for my own repository which I have been using to integrate changes and updates to the library I am building. Here is the most recent pull request I myself made to the library that I am working on to emulate an actual development process/environment. In the pull request below, I have added priority queues functionatily along with relevant test cases which test the functionality. \n",
    "\n",
    "![in-action](../images/CI/in-action.png)\n",
    "\n",
    "This form of testing enables a form of feeback loop to the developers who can be sure that the new changes do not break the old work and just build upon or expand the functionalities."
   ]
  },
  {
   "cell_type": "markdown",
   "metadata": {},
   "source": [
    "---\n",
    "If you have any questions or need any help do not hesitate to reach out to me via comments! "
   ]
  }
 ],
 "metadata": {
  "kernelspec": {
   "display_name": "Python 3",
   "language": "python",
   "name": "python3"
  },
  "language_info": {
   "codemirror_mode": {
    "name": "ipython",
    "version": 3
   },
   "file_extension": ".py",
   "mimetype": "text/x-python",
   "name": "python",
   "nbconvert_exporter": "python",
   "pygments_lexer": "ipython3",
   "version": "3.8.5"
  }
 },
 "nbformat": 4,
 "nbformat_minor": 4
}
