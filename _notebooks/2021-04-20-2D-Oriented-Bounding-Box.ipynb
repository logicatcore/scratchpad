{
 "cells": [
  {
   "cell_type": "markdown",
   "id": "infectious-eclipse",
   "metadata": {},
   "source": [
    "# 2D Oriented bounding boxes made simple\n",
    "> Calculating 2D oriented bounding boxes. Oriented boxes are useful to avoid obstacles and make best utilitsation of the real navigationable space for autonomous vehicles to steer around.\n",
    "\n",
    "- toc: false\n",
    "- branch: master\n",
    "- badges: true\n",
    "- comments: true\n",
    "- categories: [LIDAR, sensor-fusion, jupyter]\n",
    "- image: images/2Dbox/2d_oriented_bounding_box.png\n",
    "- search_exclude: false"
   ]
  },
  {
   "cell_type": "markdown",
   "id": "fatty-fourth",
   "metadata": {},
   "source": [
    "# Overview\n",
    "\n",
    "\n",
    "# 2D oriented bounding box\n",
    "\n",
    "Generating a bounding box around an object at first might sound trivial and fairly easy task to accomplish. But it is hardly the case when one starts to study the subject in detail, which is the case here.\n",
    "\n",
    "## What is a bounding box?\n",
    "\n",
    "The answer to this question lies within the name but a bit of context is needed to make complete sense of it. \"Bounding box\" i.e. a box that bounds something, some object, or some living thing. We, as humans have a sense of this bounding box by which we imagine a bubble/sphere around an obstacle while driving, like the cat which always troubles me while crossing the road on my bicycle, I am thinking of naming that cat \"The Interruptor!\", cause you know why. Anyway, so humans, imagine, sphere, avoid, obstacles! That is it, that is the motive behind why we are interested in such a box that bounds. Wait, you ask why did we shift from sphere to box? I think one possible reason is computers/autonoumous systems are capable of reacting much faster than us and the second and probably most important reason is to establish a definite NO-GO area which can later be enlarged based on a factor of safety. \n",
    "\n",
    "## Where do we use them?\n",
    "\n",
    "That is a good question, isn't it? We use bounding boxes in autonoumous systems irrespective of the travel medium i.e. bounding boxes are used in self-driving cars, self-flying cars or copters etc. \n",
    "\n",
    "## What data are we working with?\n",
    "\n",
    "In this post we work with some random data that emulates LIDAR data. But bounding boxes are used with both LIDAR pointclouds and digital images from a camera.\n",
    "\n",
    "## Read enough and want to see what is the fuss about?\n",
    "\n",
    "Do not worry, I have got it covered for the skimmers (cause am also one of you (keep it a secret though 🤫)). In the following picture on the left we can see that though the box bounds the data but does so poorly by marking lot of empty space also as belonging to the data (imagine how bad one would feel if fatness was exaggerated, not good right!) and on the right we can see that the new oriented box bounds the data perfectly and only to the extent necessary hence proving the autonomous vehicle/entity enough space to steer through.\n",
    "\n",
    "![overview](../images/2Dbox/2d_oriented_bounding_box.png)\n",
    "\n",
    "---\n",
    "In this post the simple and yet informative 2D case is discussed as we move on to a 3D case in the next post. "
   ]
  },
  {
   "cell_type": "markdown",
   "id": "unable-falls",
   "metadata": {},
   "source": [
    "---\n",
    "## Let us get started with the code and the math to generate a bounding box"
   ]
  },
  {
   "cell_type": "markdown",
   "id": "recovered-perception",
   "metadata": {},
   "source": [
    "### Handle some imports and set seed for the random generator"
   ]
  },
  {
   "cell_type": "code",
   "execution_count": 51,
   "id": "communist-productivity",
   "metadata": {},
   "outputs": [],
   "source": [
    "import matplotlib.pyplot as plt\n",
    "import numpy as np\n",
    "import numpy.linalg as LA\n",
    "\n",
    "# %matplotlib widget # uncomment this if you want to work with this notebook\n",
    "\n",
    "np.random.seed(22)"
   ]
  },
  {
   "cell_type": "markdown",
   "id": "precious-product",
   "metadata": {},
   "source": [
    "### Generate 2D sample data and visualise it"
   ]
  },
  {
   "cell_type": "code",
   "execution_count": 28,
   "id": "actual-leather",
   "metadata": {},
   "outputs": [
    {
     "data": {
      "text/plain": [
       "(-6.0, 8.0)"
      ]
     },
     "execution_count": 28,
     "metadata": {},
     "output_type": "execute_result"
    },
    {
     "data": {
      "image/png": "[encoded data removed]",
      "text/plain": [
       "<Figure size 432x288 with 1 Axes>"
      ]
     },
     "metadata": {
      "needs_background": "light"
     },
     "output_type": "display_data"
    }
   ],
   "source": [
    "x = np.random.normal(2, 2, (1, 100))\n",
    "y = np.random.normal(1, 0.6, (1, 100))\n",
    "plt.title(\"Raw data\")\n",
    "plt.scatter(x, y)\n",
    "plt.ylim(-6, 8)\n",
    "plt.xlim(-6, 8)"
   ]
  },
  {
   "cell_type": "markdown",
   "id": "hungry-vault",
   "metadata": {},
   "source": [
    "### Rotate the data\n",
    "Note: The rotated data whill be principal data that we will be working with. We rotate the data to avoid the trivial case where an oriented bounding box result will be same as a max-min based bounding box"
   ]
  },
  {
   "cell_type": "code",
   "execution_count": null,
   "id": "positive-snapshot",
   "metadata": {},
   "outputs": [],
   "source": [
    "theta = 30 # rotation angle\n",
    "# rotation matrix\n",
    "rot = lambda theta: np.array([[np.cos(np.deg2rad(theta)), -np.sin(np.deg2rad(theta))],\n",
    "                              [np.sin(np.deg2rad(theta)),  np.cos(np.deg2rad(theta))]])\n",
    "# rotate the data using the rotation matrix\n",
    "data = np.matmul(rot(theta), np.vstack([x, y]))"
   ]
  },
  {
   "cell_type": "code",
   "execution_count": 30,
   "id": "afraid-consensus",
   "metadata": {},
   "outputs": [
    {
     "data": {
      "text/plain": [
       "(-6.0, 8.0)"
      ]
     },
     "execution_count": 30,
     "metadata": {},
     "output_type": "execute_result"
    },
    {
     "data": {
      "image/png": "[encoded data removed]",
      "text/plain": [
       "<Figure size 432x288 with 1 Axes>"
      ]
     },
     "metadata": {
      "needs_background": "light"
     },
     "output_type": "display_data"
    }
   ],
   "source": [
    "plt.title(\"Rotated data\")\n",
    "plt.scatter(data[0,:], data[1,:])\n",
    "plt.ylim(-6, 8)\n",
    "plt.xlim(-6, 8)"
   ]
  },
  {
   "cell_type": "markdown",
   "id": "adjustable-fundamental",
   "metadata": {},
   "source": [
    "### Calculate means, covariance matrix, eigen values, and eigen vectors for the rotated data"
   ]
  },
  {
   "cell_type": "code",
   "execution_count": 52,
   "id": "universal-neighborhood",
   "metadata": {},
   "outputs": [
    {
     "data": {
      "text/plain": [
       "(array([3.92880689, 0.37119218]),\n",
       " array([[ 0.83553491, -0.54943736],\n",
       "        [ 0.54943736,  0.83553491]]))"
      ]
     },
     "execution_count": 52,
     "metadata": {},
     "output_type": "execute_result"
    }
   ],
   "source": [
    "means = np.mean(data, axis=1) # calculate the means\n",
    "# calculate the covariance matrix\n",
    "cov = np.cov(data)\n",
    "# Calculate the eigen values and eigen vectors of the covariance matrix\n",
    "eval, evec = LA.eig(cov)\n",
    "eval, evec"
   ]
  },
  {
   "cell_type": "markdown",
   "id": "broadband-acting",
   "metadata": {},
   "source": [
    "Now, so far we haven't given a name to the method that we will be using to achieve our goal and this seems to be the right time. The method that we will be using is called PCA(Prinicipal Component Analysis), now the machine learning enthusiasts out there would be having a question, isn't PCA a dimension reductionality algorithm used to reduce dimensions in the data? Yes and yes, you are correct but it also gives us insight that the eigen-vectors i.e. the vectors which do not changes direction upon transformation gives us the information about the directions in which the data is oriented in. \n",
    "\n",
    "Hence, we will be making use of these eigen-vectors to align the data to our original cartesian basis vectors and use then use the max-min method to find oriented bounding boxes."
   ]
  },
  {
   "cell_type": "markdown",
   "id": "selective-fisher",
   "metadata": {},
   "source": [
    "### Simple max and min based bounding box\n",
    "\n",
    "Let us have a look at the drawback so that we are in a position to appreciate our end result"
   ]
  },
  {
   "cell_type": "code",
   "execution_count": 31,
   "id": "small-graphics",
   "metadata": {},
   "outputs": [],
   "source": [
    "def draw2DRectangle(x1, y1, x2, y2):\n",
    "    # diagonal line\n",
    "    # plt.plot([x1, x2], [y1, y2], linestyle='dashed')\n",
    "    # four sides of the rectangle\n",
    "    plt.plot([x1, x2], [y1, y1], color='r') # -->\n",
    "    plt.plot([x2, x2], [y1, y2], color='g') # | (up)\n",
    "    plt.plot([x2, x1], [y2, y2], color='b') # <--\n",
    "    plt.plot([x1, x1], [y2, y1], color='k') # | (down)"
   ]
  },
  {
   "cell_type": "code",
   "execution_count": 53,
   "id": "portuguese-nomination",
   "metadata": {},
   "outputs": [],
   "source": [
    "centerd_data = data - means[:, np.newaxis] # Translate the data to origin\n",
    "# compute the minimums and maximums of each dimension\n",
    "xmin, xmax, ymin, ymax = np.min(centerd_data[0,:]), np.max(centerd_data[0,:]), np.min(centerd_data[1,:]), np.max(centerd_data[1,:])"
   ]
  },
  {
   "cell_type": "code",
   "execution_count": 54,
   "id": "endangered-means",
   "metadata": {},
   "outputs": [
    {
     "data": {
      "text/plain": [
       "<matplotlib.legend.Legend at 0x7f14e92a9fa0>"
      ]
     },
     "execution_count": 54,
     "metadata": {},
     "output_type": "execute_result"
    },
    {
     "data": {
      "image/png": "[encoded data removed]",
      "text/plain": [
       "<Figure size 432x288 with 1 Axes>"
      ]
     },
     "metadata": {
      "needs_background": "light"
     },
     "output_type": "display_data"
    }
   ],
   "source": [
    "plt.title(\"Simple max-min based bounding box\") # Plot the translated data along with the principal components i.e. the two orthogonal eigen vectors\n",
    "plt.ylim(-6, 8)\n",
    "plt.xlim(-6, 8)\n",
    "plt.scatter(centerd_data[0,:], centerd_data[1,:])\n",
    "draw2DRectangle(xmin, ymin, xmax, ymax)\n",
    "# plot the eigen vactors scaled by their eigen values\n",
    "plt.plot([0, eval[0] * evec[0, 0]],  [0, eval[0] * evec[1, 0]], label=\"pc1\", color='k')\n",
    "plt.plot([0, eval[1] * evec[0, 1]],  [0, eval[1] * evec[1, 1]], label=\"pc2\", color='k')\n",
    "plt.legend()"
   ]
  },
  {
   "cell_type": "markdown",
   "id": "bright-barrel",
   "metadata": {},
   "source": [
    "### Calculate angle of the principal eigen vector"
   ]
  },
  {
   "cell_type": "code",
   "execution_count": 55,
   "id": "documented-transparency",
   "metadata": {},
   "outputs": [],
   "source": [
    "def getEigenAngle(v):\n",
    "    return np.rad2deg(np.arctan(v[1]/v[0]))"
   ]
  },
  {
   "cell_type": "code",
   "execution_count": 56,
   "id": "understood-brazilian",
   "metadata": {},
   "outputs": [
    {
     "data": {
      "text/plain": [
       "33.32842173633697"
      ]
     },
     "execution_count": 56,
     "metadata": {},
     "output_type": "execute_result"
    }
   ],
   "source": [
    "theta_pc1 = getEigenAngle(evec[:, 0]) # the eigen vectors are usually returned sorted based on their eigenvalues, \n",
    "# so we use the eigen vector in first column\n",
    "theta_pc1"
   ]
  },
  {
   "cell_type": "markdown",
   "id": "funky-modeling",
   "metadata": {},
   "source": [
    "### Rotate the data to align to cartesian basis vectors"
   ]
  },
  {
   "cell_type": "code",
   "execution_count": 36,
   "id": "growing-schedule",
   "metadata": {},
   "outputs": [],
   "source": [
    "aligned_coords = np.matmul(rot(-theta_pc1), centerd_data) # notice the minus theta_pc1 angle"
   ]
  },
  {
   "cell_type": "code",
   "execution_count": 57,
   "id": "remarkable-camcorder",
   "metadata": {},
   "outputs": [],
   "source": [
    "xmin, xmax, ymin, ymax = np.min(aligned_coords[0, :]), np.max(aligned_coords[0, :]), np.min(aligned_coords[1, :]), np.max(aligned_coords[1, :])\n",
    "# compute the minimums and maximums of each dimension again"
   ]
  },
  {
   "cell_type": "code",
   "execution_count": 38,
   "id": "transparent-portal",
   "metadata": {},
   "outputs": [],
   "source": [
    "rectCoords = lambda x1, y1, x2, y2: np.array([[x1, x2, x2, x1],\n",
    "                                              [y1, y1, y2, y2]])"
   ]
  },
  {
   "cell_type": "code",
   "execution_count": 44,
   "id": "minor-cisco",
   "metadata": {},
   "outputs": [
    {
     "data": {
      "text/plain": [
       "(-6.0, 8.0)"
      ]
     },
     "execution_count": 44,
     "metadata": {},
     "output_type": "execute_result"
    },
    {
     "data": {
      "image/png": "[encoded data removed]",
      "text/plain": [
       "<Figure size 432x288 with 1 Axes>"
      ]
     },
     "metadata": {
      "needs_background": "light"
     },
     "output_type": "display_data"
    }
   ],
   "source": [
    "plt.title(\"Aligned data\") # plot the rotated daa and its bounding box\n",
    "plt.ylim(-6, 8)\n",
    "plt.xlim(-6, 8)\n",
    "plt.scatter(aligned_coords[0,:], aligned_coords[1,:])\n",
    "draw2DRectangle(xmin, ymin, xmax, ymax)"
   ]
  },
  {
   "cell_type": "markdown",
   "id": "behind-event",
   "metadata": {},
   "source": [
    "### Rotate and translate the data back along with the oriented bounding box"
   ]
  },
  {
   "cell_type": "code",
   "execution_count": 40,
   "id": "casual-shepherd",
   "metadata": {},
   "outputs": [],
   "source": [
    "rectangleCoordinates = rectCoords(xmin, ymin, xmax, ymax)"
   ]
  },
  {
   "cell_type": "code",
   "execution_count": 41,
   "id": "humanitarian-gnome",
   "metadata": {},
   "outputs": [],
   "source": [
    "rotateBack = np.matmul(rot(theta_pc1), aligned_coords) # notice the plus theta_pc1 angle\n",
    "rectangleCoordinates = np.matmul(rot(theta_pc1), rectangleCoordinates)\n",
    "\n",
    "# translate back\n",
    "rotateBack += means[:, np.newaxis]\n",
    "rectangleCoordinates += means[:, np.newaxis]"
   ]
  },
  {
   "cell_type": "code",
   "execution_count": 50,
   "id": "furnished-moscow",
   "metadata": {},
   "outputs": [
    {
     "data": {
      "text/plain": [
       "(-6.0, 8.0)"
      ]
     },
     "execution_count": 50,
     "metadata": {},
     "output_type": "execute_result"
    },
    {
     "data": {
      "image/png": "[encoded data removed]",
      "text/plain": [
       "<Figure size 432x288 with 1 Axes>"
      ]
     },
     "metadata": {
      "needs_background": "light"
     },
     "output_type": "display_data"
    }
   ],
   "source": [
    "plt.title(\"Re rotated and translated data\")\n",
    "plt.ylim(-6, 8)\n",
    "plt.xlim(-6, 8)\n",
    "plt.scatter(rotateBack[0, :], rotateBack[1, :])\n",
    "# four sides of the rectangle\n",
    "plt.plot(rectangleCoordinates[0, 0:2], rectangleCoordinates[1, 0:2], color='r') # | (up)\n",
    "plt.plot(rectangleCoordinates[0, 1:3], rectangleCoordinates[1, 1:3], color='g') # -->\n",
    "plt.plot(rectangleCoordinates[0, 2:], rectangleCoordinates[1, 2:], color='b')    # | (down)\n",
    "plt.plot([rectangleCoordinates[0, 3], rectangleCoordinates[0, 0]], [rectangleCoordinates[1, 3], rectangleCoordinates[1, 0]], color='k')    # <--"
   ]
  },
  {
   "cell_type": "markdown",
   "id": "nominated-jimmy",
   "metadata": {},
   "source": [
    "And so, there we have it! We made use of eigen vectors to rotate and align the data and then use the max-min method to determine a bounding box and finally undone the rotation and translation to get our oriennted bounding box."
   ]
  },
  {
   "cell_type": "markdown",
   "id": "north-oliver",
   "metadata": {},
   "source": [
    "## 2D Rotation example\n",
    "\n",
    "This is just an additional illustration to show the rotation in action using the rotation matrix"
   ]
  },
  {
   "cell_type": "code",
   "execution_count": 58,
   "id": "chief-sculpture",
   "metadata": {},
   "outputs": [],
   "source": [
    "x = np.matmul(rot(90), np.array([[2], [0]])) # rotate the vecctor (2, 0) by 90 degrees anti-clockwise\n"
   ]
  },
  {
   "cell_type": "code",
   "execution_count": 18,
   "id": "established-phone",
   "metadata": {},
   "outputs": [
    {
     "data": {
      "text/plain": [
       "<matplotlib.legend.Legend at 0x7f14e9384c40>"
      ]
     },
     "execution_count": 18,
     "metadata": {},
     "output_type": "execute_result"
    },
    {
     "data": {
      "image/png": "[encoded data removed]",
      "text/plain": [
       "<Figure size 432x288 with 1 Axes>"
      ]
     },
     "metadata": {
      "needs_background": "light"
     },
     "output_type": "display_data"
    }
   ],
   "source": [
    "plt.plot([0, 2], [0, 0], label=\"Before rotation\")\n",
    "plt.plot([0, x[0,0]], [0, x[1,0]], label=\"After rotation\")\n",
    "plt.plot(2 * np.cos(np.linspace(0, np.pi/2, 50)), 2 * np.sin(np.linspace(0, np.pi/2, 50)), linestyle=\"dashed\")\n",
    "plt.axis(\"equal\")\n",
    "plt.legend()"
   ]
  }
 ],
 "metadata": {
  "kernelspec": {
   "display_name": "Python 3",
   "language": "python",
   "name": "python3"
  },
  "language_info": {
   "codemirror_mode": {
    "name": "ipython",
    "version": 3
   },
   "file_extension": ".py",
   "mimetype": "text/x-python",
   "name": "python",
   "nbconvert_exporter": "python",
   "pygments_lexer": "ipython3",
   "version": "3.8.5"
  }
 },
 "nbformat": 4,
 "nbformat_minor": 5
}
