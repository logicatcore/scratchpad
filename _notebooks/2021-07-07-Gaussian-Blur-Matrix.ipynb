{
 "cells": [
  {
   "cell_type": "markdown",
   "id": "bf8c0f4b",
   "metadata": {},
   "source": [
    "# Gaussian Matrix\n",
    "> Generating a Gaussian matrix for applying Gaussian Blur to an Image\n",
    "\n",
    "- toc: false\n",
    "- branch: master\n",
    "- badges: true\n",
    "- comments: true\n",
    "- categories: [Camera, Computer-Vision]\n",
    "- image: images/gaussian_blur/gaussian_blur_cover1.png\n",
    "- search_exclude: false"
   ]
  },
  {
   "cell_type": "markdown",
   "id": "0134331c",
   "metadata": {},
   "source": [
    "# Overview\n",
    "\n",
    "In image processing, a Gaussian blur (also known as Gaussian smoothing) is the result of blurring an image by a Gaussian function (named after mathematician and scientist Carl Friedrich Gauss).\n",
    "\n",
    "It is a widely used effect in graphics software, typically to reduce image noise and reduce detail. The visual effect of this blurring technique is a smooth blur resembling that of viewing the image through a translucent screen.\n",
    "\n",
    "Gaussian smoothing is also used as a pre-processing stage in computer vision algorithms in order to enhance image structures at different scales—see scale space representation and scale space implementation.{% cite gaussian_blur%} \n",
    "\n",
    "The following is an example showing an unblurred image along with two levels of blurrings applied.\n",
    "\n",
    "<img src=\"../images/gaussian_blur/gaussian_blur_cover2.png\" />\n",
    "\n",
    "\n",
    "# What to expect?\n",
    "\n",
    "In this article we will see how to create one such kernel/matrix which has it's entries in agreement with a Gaussian distribution. Using the generated matrix to convolve and produce a blurred version of a image is not covered in this article as this is a very common operation which is available in *numpy*, *scipy* and more.\n",
    "\n",
    "\n",
    "# Some basics\n",
    "\n",
    "The general form of its probability density function is, ${\\displaystyle f(x)={\\frac {1}{\\sigma {\\sqrt {2\\pi }}}}e^{-{\\frac {1}{2}}\\left({\\frac {x-\\mu }{\\sigma }}\\right)^{2}}}$\n",
    "\n",
    "Now, we know the kind of distribution we need and we also have the necessary formula but what we need is an apporpriate way to place the entries in a $N x N$ matrix (where N is odd) with the entries values radially decreasing in all directions. \n",
    "\n",
    "When a 3D graph of the matrix entries is drawn using the information of entries positions in the matrix and their values, the resulting 3D graph should resembel a 3D Normal distribution curve. Which we will see at the end of this article.\n",
    "\n",
    "# Main solution Idea\n",
    "\n",
    "The general solution to the problem of correctly mapping the matrix locations to their respective likelihoods can be solved by noting that the resulting 3D Normal distribution graph will be symmetric in nature and an odd sized matrix has unique center element.\n",
    "\n",
    "In the code below, we breakdown an odd sized matrix into 4 quadrants and utilise the top left quadrant to generate the matrix entries. In the above formula, we will replace $x$ with (row No.+ column No.) i.e., ${\\displaystyle f(R+C)={\\frac {1}{\\sigma {\\sqrt {2\\pi }}}}e^{-{\\frac {1}{2}}\\left({\\frac {(R+C)-\\mu }{\\sigma }}\\right)^{2}}}$ where-\n",
    "* R - Row Number\n",
    "* C - Column Number"
   ]
  },
  {
   "cell_type": "code",
   "execution_count": null,
   "id": "8332723f-898d-452e-b8d2-b940f0eb4f37",
   "metadata": {},
   "outputs": [],
   "source": [
    "# Handle the imports\n",
    "%matplotlib widget\n",
    "import numpy as np\n",
    "from matplotlib import cm\n",
    "import matplotlib.pyplot as plt\n",
    "from mpl_toolkits.mplot3d import Axes3D"
   ]
  },
  {
   "cell_type": "code",
   "execution_count": null,
   "id": "3f147ec2-9bcb-48c8-91ac-822a92e480e1",
   "metadata": {},
   "outputs": [],
   "source": [
    "def GM(std_dev, size):\n",
    "    \"\"\"\n",
    "    Computes a gaussian matrix/kernel of given size\n",
    "    :param std_dev: Standard deviation of the Gaussian\n",
    "    :param size: Size of kernel needed\n",
    "    \"\"\"\n",
    "    if (size % 2 != 1):\n",
    "        print(\"Size has to be odd\")\n",
    "        return \n",
    "    # Gaussian parameters and normalizing constant\n",
    "    sigma = std_dev\n",
    "    # Variance\n",
    "    var = sigma **2\n",
    "    # Normalisation parameter (is constant for all matrix entries)\n",
    "    norm = 1/(np.sqrt(2*np.pi)*sigma)\n",
    "    \n",
    "    def density(x):\n",
    "        return norm * np.exp(-0.5*(x)**2/var)\n",
    "    \n",
    "    # quarter kernel size\n",
    "    qs = (size//2) + 1\n",
    "    # quarter kernel\n",
    "    qk = np.zeros((qs, qs))\n",
    "    for R in range(qs):\n",
    "        for C in range(qs):\n",
    "            qk[R,C] = density(2*qs - (R+C))\n",
    "    # mirror the kernel verticaly and horizontaly\n",
    "    kernel = np.hstack((qk, np.flip(qk,1)[:,1:]))\n",
    "    kernel = np.vstack((kernel, np.flip(kernel,0)[1:,:]))\n",
    "    # normalise the weights\n",
    "    kernel = kernel / np.sum(kernel)\n",
    "    \n",
    "    return kernel"
   ]
  },
  {
   "cell_type": "markdown",
   "id": "19040b4e",
   "metadata": {},
   "source": [
    "# Generating and visualising"
   ]
  },
  {
   "cell_type": "code",
   "execution_count": null,
   "id": "484fbf7a-f024-435b-bf2b-f72d53fd196e",
   "metadata": {},
   "outputs": [],
   "source": [
    "# for example\n",
    "kernel_size = 41"
   ]
  },
  {
   "cell_type": "code",
   "execution_count": null,
   "id": "a9792abc-f66a-4a82-94e1-29e6c5c00d8a",
   "metadata": {},
   "outputs": [],
   "source": [
    "idxs = np.indices((kernel_size, kernel_size))"
   ]
  },
  {
   "cell_type": "code",
   "execution_count": null,
   "id": "246793ac-a4d6-4dbb-907d-b2dd316561c9",
   "metadata": {
    "scrolled": true
   },
   "outputs": [],
   "source": [
    "fig = plt.figure(figsize=(10,4))\n",
    "std_devs = [14, 10, 6]\n",
    "for i, std in enumerate(std_devs):\n",
    "    fig_idx = 100 + len(std_devs)*10 + 1 + i \n",
    "    gaussiann_kernel = GM(std, kernel_size)\n",
    "    ax = fig.add_subplot(fig_idx, projection='3d')\n",
    "    # ax.scatter(idxs[0].reshape(-1), idxs[1].reshape(-1), gaussiann_kernel.reshape(-1))\n",
    "    ax.plot_surface(idxs[0], idxs[1], gaussiann_kernel, cmap=cm.coolwarm)\n",
    "    ax.set_title(f\"Standard deviation = {std}\")\n",
    "    ax.set_xlabel('x')\n",
    "    ax.set_ylabel('y')\n",
    "    ax.set_zlabel('z')"
   ]
  },
  {
   "cell_type": "markdown",
   "id": "c49e1bb5",
   "metadata": {},
   "source": [
    "<img src=\"../images/gaussian_blur/gaussian_blur_matrix.png\"/>"
   ]
  },
  {
   "cell_type": "markdown",
   "id": "ec8c6afe",
   "metadata": {},
   "source": [
    "# References\n",
    "\n",
    "{% bibliography --cited %}"
   ]
  }
 ],
 "metadata": {
  "kernelspec": {
   "display_name": "Python 3",
   "language": "python",
   "name": "python3"
  },
  "language_info": {
   "codemirror_mode": {
    "name": "ipython",
    "version": 3
   },
   "file_extension": ".py",
   "mimetype": "text/x-python",
   "name": "python",
   "nbconvert_exporter": "python",
   "pygments_lexer": "ipython3",
   "version": "3.9.2"
  }
 },
 "nbformat": 4,
 "nbformat_minor": 5
}
