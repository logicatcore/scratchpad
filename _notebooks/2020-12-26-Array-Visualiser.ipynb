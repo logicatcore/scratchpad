{
 "cells": [
  {
   "cell_type": "markdown",
   "metadata": {},
   "source": [
    "# Input data representation as 2D array of 3D blocks\n",
    "> An easy way to represent input data to neural networks or any other machine learning algorithm in the form of 2D array of 3D-blocks\n",
    "\n",
    "- toc: false\n",
    "- branch: master\n",
    "- badges: true\n",
    "- comments: true\n",
    "- categories: [machine learning, jupyter, graphviz]\n",
    "- image: images/array_visualiser/thumbnail.png\n",
    "- search_exclude: false"
   ]
  },
  {
   "cell_type": "markdown",
   "metadata": {},
   "source": [
    "---\n",
    "Often while working with machine learning algorithms the developer has a good picture of how the input data looks like apart from knowing what the input data is. Also, most of the times the input data is usually represented or decribed with array terminology. Hence, this particular post is one such attempt to create simple 2D representations of 3D-blocks symbolising the arrays used for input.\n",
    "\n",
    "[Graphviz](https://graphviz.readthedocs.io/en/stable/) a highly versatile graphing library that creates graphs based on DOT language is used to create the 2D array representation of 3D blocks with annotation and color uniformity to create quick and concise graphs/pictures for good explanations of input data used in various machine learning/deep learning algorithms.\n",
    "\n",
    "In what follows is a script to create the 2D array representation og 3D blocks mainly intented for time-series data. The script facilitates some features which include-\n",
    "* Starting at time instant 0 or -1\n",
    "* counting backwards i.e. t-4 -> t-3 -> t-2 -> t-1 -> t-0 or counting forwards t-0 -> t-1 -> t-2 -> t-3 -> t-4 -> t-5"
   ]
  },
  {
   "cell_type": "markdown",
   "metadata": {},
   "source": [
    "### Imports and global constants"
   ]
  },
  {
   "cell_type": "code",
   "execution_count": 1,
   "metadata": {},
   "outputs": [],
   "source": [
    "import graphviz as G # to create the required graphs\n",
    "import random        # to generate random hex codes for colors\n",
    "\n",
    "FORWARDS = True   # to visualise array from left to right\n",
    "BACKWARDS = False # to visualise array from right to left"
   ]
  },
  {
   "cell_type": "markdown",
   "metadata": {},
   "source": [
    "### Properties of 2D representation of 3D array blocks\n",
    "Main features/properties of the array visualisation needed are defined gere before actually creating the graph/picture.\n",
    "1) Number of Rows: similar to rows in a matrix where each each row corresponds to one particular data type with data across different time instants arranged in columns\n",
    "\n",
    "2) Blocks: which corresponds to the number of time instants in each row (jagged arrays can also be graphed)\n",
    "\n",
    "3) Prefix: the annotation used to annotate each 3D block in the 2D array representation"
   ]
  },
  {
   "cell_type": "code",
   "execution_count": 2,
   "metadata": {},
   "outputs": [],
   "source": [
    "ROW_NUMS = [1, 2] # Layer numbers corresponding to the number of rows of array data (must be contiguous)\n",
    "BLOCKS = [3, 3] # number of data fields in each row i.e., columns in each row\n",
    "\n",
    "diff = [x - ROW_NUMS[i] for i, x in enumerate(ROW_NUMS[1:])]\n",
    "assert diff == [1]*(len(ROW_NUMS) - 1), '\"layer_num\" should contain contiguous numbers only'\n",
    "assert len(ROW_NUMS) == len(BLOCKS), \"'cells' list and 'layer_num' list should contain same number of entries\"\n",
    "\n",
    "direction = BACKWARDS        # control the direction of countdown of timesteps \n",
    "INCLUDE_ZERO = True         # for time series based data\n",
    "START_AT = 0 if INCLUDE_ZERO else 1\n",
    "\n",
    "# names = [['Softmax\\nprobabilities', 'p1', 'p2', 'p3', 'p4', 'p5', 'p6', 'p7', 'p8', 'p9', 'p10'],['', '       +', '       +', '       +', '       +', '       +', '       +'],['GMM\\nprobabilities', 'p1', 'p2', 'p3', 'p4', 'p5', 'p6']]\n",
    "\n",
    "# the trick to adding symbols like the \"partial(dou)\" i.e. '∂' is to write these symbols in a markdown cell using the $\\partial$ utilising the mathjax support and\n",
    "# copying the content after being rendered and paste in the code as a string wherever needed\n",
    "prefix = ['∂(i)-', '∂(v)-']"
   ]
  },
  {
   "cell_type": "code",
   "execution_count": 3,
   "metadata": {},
   "outputs": [],
   "source": [
    "r = lambda: random.randint(0,255)  # to generate random colors for each row \n",
    "\n",
    "# intantiate a directed graph with intial properties\n",
    "dot = G.Digraph(comment='Matrix', \n",
    "                graph_attr={'nodesep':'0.02', 'ranksep':'0.02', 'bgcolor':'transparent'},\n",
    "                node_attr={'shape':'box3d','fixedsize':'true', 'width':'1.1'})\n",
    "\n",
    "for row_no in ROW_NUMS:\n",
    "    if row_no != 1:\n",
    "        dot.edge(str(row_no-1)+str(START_AT), str(row_no)+str(START_AT), style='invis') # invisible edges to contrain layout\n",
    "    with dot.subgraph() as sg:\n",
    "        sg.attr(rank='same')\n",
    "        color = '#{:02x}{:02x}{:02x}'.format(r(),r(),r())\n",
    "        for block_no in range(START_AT, BLOCKS[row_no-1]+START_AT):\n",
    "            if direction:\n",
    "                sg.node(str(row_no)+str(block_no), 't-'+str(block_no), style='filled', fillcolor=color)\n",
    "            else:\n",
    "                if START_AT == 0:\n",
    "                    sg.node(str(row_no)+str(block_no), prefix[row_no-1]+str(BLOCKS[row_no-1]-block_no-1), style='filled', fillcolor=color)\n",
    "                else:\n",
    "                    sg.node(str(row_no)+str(block_no), prefix[row_no-1]+str(BLOCKS[row_no-1]-block_no-1), style='filled', fillcolor=color)    "
   ]
  },
  {
   "cell_type": "markdown",
   "metadata": {},
   "source": [
    "### Render"
   ]
  },
  {
   "cell_type": "code",
   "execution_count": 4,
   "metadata": {},
   "outputs": [
    {
     "data": {
      "image/svg+xml": [
       "<?xml version=\"1.0\" encoding=\"UTF-8\" standalone=\"no\"?>\n",
       "<!DOCTYPE svg PUBLIC \"-//W3C//DTD SVG 1.1//EN\"\n",
       " \"http://www.w3.org/Graphics/SVG/1.1/DTD/svg11.dtd\">\n",
       "<!-- Generated by graphviz version 2.40.1 (20161225.0304)\n",
       " -->\n",
       "<!-- Title: %3 Pages: 1 -->\n",
       "<svg width=\"247pt\" height=\"88pt\"\n",
       " viewBox=\"0.00 0.00 247.00 88.00\" xmlns=\"http://www.w3.org/2000/svg\" xmlns:xlink=\"http://www.w3.org/1999/xlink\">\n",
       "<g id=\"graph0\" class=\"graph\" transform=\"scale(1 1) rotate(0) translate(4 84)\">\n",
       "<title>%3</title>\n",
       "<!-- 10 -->\n",
       "<g id=\"node1\" class=\"node\">\n",
       "<title>10</title>\n",
       "<polygon fill=\"#7951ad\" stroke=\"#000000\" points=\"79,-80 4,-80 0,-76 0,-44 75,-44 79,-48 79,-80\"/>\n",
       "<polyline fill=\"none\" stroke=\"#000000\" points=\"75,-76 0,-76 \"/>\n",
       "<polyline fill=\"none\" stroke=\"#000000\" points=\"75,-76 75,-44 \"/>\n",
       "<polyline fill=\"none\" stroke=\"#000000\" points=\"75,-76 79,-80 \"/>\n",
       "<text text-anchor=\"middle\" x=\"39.5\" y=\"-58.3\" font-family=\"Times,serif\" font-size=\"14.00\" fill=\"#000000\">∂(i)&#45;2</text>\n",
       "</g>\n",
       "<!-- 20 -->\n",
       "<g id=\"node4\" class=\"node\">\n",
       "<title>20</title>\n",
       "<polygon fill=\"#e47359\" stroke=\"#000000\" points=\"79,-36 4,-36 0,-32 0,0 75,0 79,-4 79,-36\"/>\n",
       "<polyline fill=\"none\" stroke=\"#000000\" points=\"75,-32 0,-32 \"/>\n",
       "<polyline fill=\"none\" stroke=\"#000000\" points=\"75,-32 75,0 \"/>\n",
       "<polyline fill=\"none\" stroke=\"#000000\" points=\"75,-32 79,-36 \"/>\n",
       "<text text-anchor=\"middle\" x=\"39.5\" y=\"-14.3\" font-family=\"Times,serif\" font-size=\"14.00\" fill=\"#000000\">∂(v)&#45;2</text>\n",
       "</g>\n",
       "<!-- 10&#45;&gt;20 -->\n",
       "<!-- 11 -->\n",
       "<g id=\"node2\" class=\"node\">\n",
       "<title>11</title>\n",
       "<polygon fill=\"#7951ad\" stroke=\"#000000\" points=\"159,-80 84,-80 80,-76 80,-44 155,-44 159,-48 159,-80\"/>\n",
       "<polyline fill=\"none\" stroke=\"#000000\" points=\"155,-76 80,-76 \"/>\n",
       "<polyline fill=\"none\" stroke=\"#000000\" points=\"155,-76 155,-44 \"/>\n",
       "<polyline fill=\"none\" stroke=\"#000000\" points=\"155,-76 159,-80 \"/>\n",
       "<text text-anchor=\"middle\" x=\"119.5\" y=\"-58.3\" font-family=\"Times,serif\" font-size=\"14.00\" fill=\"#000000\">∂(i)&#45;1</text>\n",
       "</g>\n",
       "<!-- 12 -->\n",
       "<g id=\"node3\" class=\"node\">\n",
       "<title>12</title>\n",
       "<polygon fill=\"#7951ad\" stroke=\"#000000\" points=\"239,-80 164,-80 160,-76 160,-44 235,-44 239,-48 239,-80\"/>\n",
       "<polyline fill=\"none\" stroke=\"#000000\" points=\"235,-76 160,-76 \"/>\n",
       "<polyline fill=\"none\" stroke=\"#000000\" points=\"235,-76 235,-44 \"/>\n",
       "<polyline fill=\"none\" stroke=\"#000000\" points=\"235,-76 239,-80 \"/>\n",
       "<text text-anchor=\"middle\" x=\"199.5\" y=\"-58.3\" font-family=\"Times,serif\" font-size=\"14.00\" fill=\"#000000\">∂(i)&#45;0</text>\n",
       "</g>\n",
       "<!-- 21 -->\n",
       "<g id=\"node5\" class=\"node\">\n",
       "<title>21</title>\n",
       "<polygon fill=\"#e47359\" stroke=\"#000000\" points=\"159,-36 84,-36 80,-32 80,0 155,0 159,-4 159,-36\"/>\n",
       "<polyline fill=\"none\" stroke=\"#000000\" points=\"155,-32 80,-32 \"/>\n",
       "<polyline fill=\"none\" stroke=\"#000000\" points=\"155,-32 155,0 \"/>\n",
       "<polyline fill=\"none\" stroke=\"#000000\" points=\"155,-32 159,-36 \"/>\n",
       "<text text-anchor=\"middle\" x=\"119.5\" y=\"-14.3\" font-family=\"Times,serif\" font-size=\"14.00\" fill=\"#000000\">∂(v)&#45;1</text>\n",
       "</g>\n",
       "<!-- 22 -->\n",
       "<g id=\"node6\" class=\"node\">\n",
       "<title>22</title>\n",
       "<polygon fill=\"#e47359\" stroke=\"#000000\" points=\"239,-36 164,-36 160,-32 160,0 235,0 239,-4 239,-36\"/>\n",
       "<polyline fill=\"none\" stroke=\"#000000\" points=\"235,-32 160,-32 \"/>\n",
       "<polyline fill=\"none\" stroke=\"#000000\" points=\"235,-32 235,0 \"/>\n",
       "<polyline fill=\"none\" stroke=\"#000000\" points=\"235,-32 239,-36 \"/>\n",
       "<text text-anchor=\"middle\" x=\"199.5\" y=\"-14.3\" font-family=\"Times,serif\" font-size=\"14.00\" fill=\"#000000\">∂(v)&#45;0</text>\n",
       "</g>\n",
       "</g>\n",
       "</svg>\n"
      ],
      "text/plain": [
       "<graphviz.dot.Digraph at 0x7ff9e00a9310>"
      ]
     },
     "execution_count": 4,
     "metadata": {},
     "output_type": "execute_result"
    }
   ],
   "source": [
    "dot"
   ]
  },
  {
   "cell_type": "markdown",
   "metadata": {},
   "source": [
    "### Save/Export"
   ]
  },
  {
   "cell_type": "code",
   "execution_count": 29,
   "metadata": {},
   "outputs": [],
   "source": [
    "# dot.format = 'jpeg' # or PDF, SVG, JPEG, PNG, etc. "
   ]
  },
  {
   "cell_type": "code",
   "execution_count": 220,
   "metadata": {},
   "outputs": [
    {
     "data": {
      "text/plain": [
       "'./lstm_input.pdf'"
      ]
     },
     "execution_count": 220,
     "metadata": {},
     "output_type": "execute_result"
    }
   ],
   "source": [
    "# to save the file, pdf is default\n",
    "dot.render('./lstm_input')"
   ]
  },
  {
   "cell_type": "markdown",
   "metadata": {},
   "source": [
    "### Additional script to just show the breakdown of train-test data of the dataset being used"
   ]
  },
  {
   "cell_type": "code",
   "execution_count": 18,
   "metadata": {},
   "outputs": [],
   "source": [
    "import random\n",
    "r = lambda: random.randint(0,255)  # to generate random colors for each row "
   ]
  },
  {
   "cell_type": "code",
   "execution_count": 19,
   "metadata": {},
   "outputs": [],
   "source": [
    "folders = G.Digraph(node_attr={'style':'filled'}, graph_attr={'style':'invis', 'rankdir':'LR'},edge_attr={'color':'black', 'arrowsize':'.2'})"
   ]
  },
  {
   "cell_type": "code",
   "execution_count": 20,
   "metadata": {},
   "outputs": [],
   "source": [
    "color = '#{:02x}{:02x}{:02x}'.format(r(),r(),r())\n",
    "with folders.subgraph(name='cluster0') as f:\n",
    "    f.node('root', 'Dataset \\n x2000', shape='folder', fillcolor=color)"
   ]
  },
  {
   "cell_type": "code",
   "execution_count": 21,
   "metadata": {},
   "outputs": [],
   "source": [
    "color = '#{:02x}{:02x}{:02x}'.format(r(),r(),r())\n",
    "with folders.subgraph(name='cluster1') as f:\n",
    "    f.node('train', 'Train \\n 1800', shape='note', fillcolor=color)\n",
    "    f.node('test', 'Test \\n x200', shape='note', fillcolor=color)"
   ]
  },
  {
   "cell_type": "code",
   "execution_count": 22,
   "metadata": {},
   "outputs": [],
   "source": [
    "folders.edge('root', 'train')\n",
    "folders.edge('root', 'test')"
   ]
  },
  {
   "cell_type": "code",
   "execution_count": 23,
   "metadata": {},
   "outputs": [
    {
     "data": {
      "image/svg+xml": [
       "<?xml version=\"1.0\" encoding=\"UTF-8\" standalone=\"no\"?>\n",
       "<!DOCTYPE svg PUBLIC \"-//W3C//DTD SVG 1.1//EN\"\n",
       " \"http://www.w3.org/Graphics/SVG/1.1/DTD/svg11.dtd\">\n",
       "<!-- Generated by graphviz version 2.40.1 (20161225.0304)\n",
       " -->\n",
       "<!-- Title: %3 Pages: 1 -->\n",
       "<svg width=\"191pt\" height=\"134pt\"\n",
       " viewBox=\"0.00 0.00 191.00 134.00\" xmlns=\"http://www.w3.org/2000/svg\" xmlns:xlink=\"http://www.w3.org/1999/xlink\">\n",
       "<g id=\"graph0\" class=\"graph\" transform=\"scale(1 1) rotate(0) translate(4 130)\">\n",
       "<title>%3</title>\n",
       "<polygon fill=\"#ffffff\" stroke=\"transparent\" points=\"-4,4 -4,-130 187,-130 187,4 -4,4\"/>\n",
       "<g id=\"clust1\" class=\"cluster\">\n",
       "<title>cluster0</title>\n",
       "</g>\n",
       "<g id=\"clust2\" class=\"cluster\">\n",
       "<title>cluster1</title>\n",
       "</g>\n",
       "<!-- root -->\n",
       "<g id=\"node1\" class=\"node\">\n",
       "<title>root</title>\n",
       "<polygon fill=\"#335a11\" stroke=\"#000000\" points=\"77,-82 74,-86 53,-86 50,-82 16,-82 16,-44 77,-44 77,-82\"/>\n",
       "<text text-anchor=\"middle\" x=\"46.5\" y=\"-66.8\" font-family=\"Times,serif\" font-size=\"14.00\" fill=\"#000000\">Dataset </text>\n",
       "<text text-anchor=\"middle\" x=\"46.5\" y=\"-51.8\" font-family=\"Times,serif\" font-size=\"14.00\" fill=\"#000000\"> x2000</text>\n",
       "</g>\n",
       "<!-- train -->\n",
       "<g id=\"node2\" class=\"node\">\n",
       "<title>train</title>\n",
       "<polygon fill=\"#6d86e4\" stroke=\"#000000\" points=\"161,-110 113,-110 113,-72 167,-72 167,-104 161,-110\"/>\n",
       "<polyline fill=\"none\" stroke=\"#000000\" points=\"161,-110 161,-104 \"/>\n",
       "<polyline fill=\"none\" stroke=\"#000000\" points=\"167,-104 161,-104 \"/>\n",
       "<text text-anchor=\"middle\" x=\"140\" y=\"-94.8\" font-family=\"Times,serif\" font-size=\"14.00\" fill=\"#000000\">Train </text>\n",
       "<text text-anchor=\"middle\" x=\"140\" y=\"-79.8\" font-family=\"Times,serif\" font-size=\"14.00\" fill=\"#000000\"> 1800</text>\n",
       "</g>\n",
       "<!-- root&#45;&gt;train -->\n",
       "<g id=\"edge1\" class=\"edge\">\n",
       "<title>root&#45;&gt;train</title>\n",
       "<path fill=\"none\" stroke=\"#000000\" d=\"M77.1154,-72.1682C87.9003,-75.398 99.991,-79.0187 110.6675,-82.2159\"/>\n",
       "<polygon fill=\"#000000\" stroke=\"#000000\" points=\"110.6664,-82.9463 112.7832,-82.8495 111.0681,-81.6051 110.6664,-82.9463\"/>\n",
       "</g>\n",
       "<!-- test -->\n",
       "<g id=\"node3\" class=\"node\">\n",
       "<title>test</title>\n",
       "<polygon fill=\"#6d86e4\" stroke=\"#000000\" points=\"161,-54 113,-54 113,-16 167,-16 167,-48 161,-54\"/>\n",
       "<polyline fill=\"none\" stroke=\"#000000\" points=\"161,-54 161,-48 \"/>\n",
       "<polyline fill=\"none\" stroke=\"#000000\" points=\"167,-48 161,-48 \"/>\n",
       "<text text-anchor=\"middle\" x=\"140\" y=\"-38.8\" font-family=\"Times,serif\" font-size=\"14.00\" fill=\"#000000\">Test </text>\n",
       "<text text-anchor=\"middle\" x=\"140\" y=\"-23.8\" font-family=\"Times,serif\" font-size=\"14.00\" fill=\"#000000\"> x200</text>\n",
       "</g>\n",
       "<!-- root&#45;&gt;test -->\n",
       "<g id=\"edge2\" class=\"edge\">\n",
       "<title>root&#45;&gt;test</title>\n",
       "<path fill=\"none\" stroke=\"#000000\" d=\"M77.1154,-53.8318C87.9003,-50.602 99.991,-46.9813 110.6675,-43.7841\"/>\n",
       "<polygon fill=\"#000000\" stroke=\"#000000\" points=\"111.0681,-44.3949 112.7832,-43.1505 110.6664,-43.0537 111.0681,-44.3949\"/>\n",
       "</g>\n",
       "</g>\n",
       "</svg>\n"
      ],
      "text/plain": [
       "<graphviz.dot.Digraph at 0x7f432b7005e0>"
      ]
     },
     "execution_count": 23,
     "metadata": {},
     "output_type": "execute_result"
    }
   ],
   "source": [
    "folders"
   ]
  },
  {
   "cell_type": "code",
   "execution_count": 24,
   "metadata": {},
   "outputs": [
    {
     "data": {
      "text/plain": [
       "'./dataset.pdf'"
      ]
     },
     "execution_count": 24,
     "metadata": {},
     "output_type": "execute_result"
    }
   ],
   "source": [
    "folders.render('./dataset')"
   ]
  }
 ],
 "metadata": {
  "kernelspec": {
   "display_name": "Python 3",
   "language": "python",
   "name": "python3"
  },
  "language_info": {
   "codemirror_mode": {
    "name": "ipython",
    "version": 3
   },
   "file_extension": ".py",
   "mimetype": "text/x-python",
   "name": "python",
   "nbconvert_exporter": "python",
   "pygments_lexer": "ipython3",
   "version": "3.8.3"
  }
 },
 "nbformat": 4,
 "nbformat_minor": 4
}
